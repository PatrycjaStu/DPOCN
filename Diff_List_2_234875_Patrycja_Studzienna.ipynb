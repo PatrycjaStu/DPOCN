{
  "nbformat": 4,
  "nbformat_minor": 0,
  "metadata": {
    "colab": {
      "name": "Untitled7.ipynb",
      "provenance": [],
      "collapsed_sections": []
    },
    "kernelspec": {
      "name": "python3",
      "display_name": "Python 3"
    }
  },
  "cells": [
    {
      "cell_type": "code",
      "metadata": {
        "id": "3RV7XIvA_iwc",
        "colab_type": "code",
        "colab": {}
      },
      "source": [
        "class Graph():\n",
        "  def __init__(self):\n",
        "    '''Function creates graph object.'''\n",
        "    self.vertices = dict()\n",
        "    self.edges = []\n",
        "\n",
        "  def addVertex(self,vert):\n",
        "    '''Function adds vertex to the graph object.\n",
        "    \n",
        "    Keyword arguments:\n",
        "    vert -- vertex label\n",
        "    '''\n",
        "    if vert not in self.vertices.keys():\n",
        "        self.vertices[vert] = []\n",
        "    else:\n",
        "      print(\"Node exist in the graph!\")\n",
        "\n",
        "  def getVertices(self):\n",
        "    '''Function return list of vertices.'''\n",
        "    return self.vertices.keys()\n",
        "\n",
        "  def addVerticesFromList(self,vertList):\n",
        "    '''Function adds all vertices from list to the graph object.\n",
        "    \n",
        "    Keyword arguments:\n",
        "    vertList -- list of vertices\n",
        "    '''\n",
        "    if type(vertList)!=list:\n",
        "      print('Argument must be type list')\n",
        "      pass\n",
        "    \n",
        "    for vertex in vertList:\n",
        "      self.addVertex(vertex)\n",
        "\n",
        "  def addEdge(self,vert1,vert2,*weight):\n",
        "    '''Function adds weighted edge between vertices in the graph \n",
        "    object. Add new vertices to vertices list. \n",
        "    \n",
        "    Keyword arguments:\n",
        "    vert1 -- first vertex label\n",
        "    vert2 -- second vertex label\n",
        "    *weight -- weight of edge\n",
        "    '''\n",
        "    if (vert1,vert2,*weight) in self.edges:\n",
        "      print (\"Edge exists in the graph\")\n",
        "      pass\n",
        "\n",
        "    if vert1 not in self.vertices:\n",
        "      self.vertices[vert1]=[vert2]\n",
        "    else:\n",
        "      self.vertices[vert1].append(vert2)\n",
        "\n",
        "    if vert2 not in self.vertices:\n",
        "      self.vertices[vert2]=[vert1]\n",
        "    else:\n",
        "      self.vertices[vert2].append(vert1)\n",
        "    \n",
        "    self.edges.append((vert1,vert2,*weight))\n",
        "\n",
        "  def getEdges(self):\n",
        "    '''Function returs list of edges in the graph.'''\n",
        "    return self.edges\n",
        "\n",
        "  def addEdgesFromList(self,edgeList):\n",
        "    '''Function adds edges from the list to the graph.\n",
        "\n",
        "    Keyword arguments:\n",
        "    edgeList -- list of edges, elements are tuples\n",
        "    '''\n",
        "    if type(edgeList)!=list:\n",
        "      print(\"Argument must be type list\")\n",
        "      pass\n",
        "\n",
        "    for element in edgeList:\n",
        "      if type(element)!=tuple:\n",
        "        print(\"List must contain elements type tuple\")\n",
        "        pass\n",
        "        \n",
        "    for edge in edgeList:\n",
        "      if len(edge)==3:\n",
        "        self.addEdge(edge[0],edge[1],edge[2])\n",
        "      elif len(edge)==2:\n",
        "        self.addEdge(edge[0],edge[1])\n",
        "\n",
        "  def getNeighbors(self,vertKey):\n",
        "    '''Function returns the list of neighbors of vertex\n",
        "    from function argument.\n",
        "\n",
        "    Keyword arguments:\n",
        "    vertKey -- label of vertex\n",
        "    '''\n",
        "    return self.vertices[vertKey]\n",
        "\n",
        "  def __contains__(self,vert):\n",
        "    '''Function returns True if vertex from argument is in the graph\n",
        "    or False otherwise.\n",
        "\n",
        "    Keyword arguments:\n",
        "    vert -- label of vertex\n",
        "    '''\n",
        "    if vert in self.vertices:\n",
        "      return True\n",
        "    else:\n",
        "      return False\n",
        "  \n",
        "\n",
        "  def saveGraph(self,graph):\n",
        "    '''Function creates text file with graph in dot language.\n",
        "\n",
        "    Keyword arguments:\n",
        "    graph -- name of file\n",
        "    '''\n",
        "    seperator = ''\n",
        "    graphviz_dot_file = open(seperator.join((graph,\".txt\")),\"w\") \n",
        "    graphviz_dot_file.write(\"graph G0 { \\n\")\n",
        "    for element in self.edges:\n",
        "      graphviz_dot_file.write(seperator.join((element[0],'--',element[1],'\\n')))\n",
        "    graphviz_dot_file.write(\"}\")\n",
        "    graphviz_dot_file.close()\n",
        "\n",
        "  def getShortestPaths(self,fromVert):\n",
        "    '''Function creates dictionary  shortest paths in the graph \n",
        "    from the given vertex to all other vertices.\n",
        "\n",
        "    Keyword arguments:\n",
        "    fromVert -- label of start vertex\n",
        "    '''\n",
        "    neighbors_dict = dict()\n",
        "    path = 1\n",
        "    neighbors = self.getNeighbors(fromVert)\n",
        "    for node in neighbors:\n",
        "      neighbors_dict[node] = path\n",
        "    while True:\n",
        "      neighbors_neighbors = []    # list of neighbors of neighbors\n",
        "      for node in neighbors:\n",
        "        neighbors = self.getNeighbors(node)\n",
        "        for element in neighbors:\n",
        "          neighbors_neighbors.append(element)\n",
        "      new_neighbor = 0  # counter on new nodes in step in loop\n",
        "      path += 1   # length of path in this step\n",
        "      for element in neighbors_neighbors:\n",
        "        if element not in neighbors_dict:\n",
        "          if element != fromVert:   \n",
        "            neighbors_dict[element] = path\n",
        "            new_neighbor += 1\n",
        "      if new_neighbor == 0:\n",
        "        break     # break if there is no new path\n",
        "      neighbors = neighbors_neighbors\n",
        "    return neighbors_dict"
      ],
      "execution_count": 0,
      "outputs": []
    },
    {
      "cell_type": "code",
      "metadata": {
        "id": "u23YuxPMdx-N",
        "colab_type": "code",
        "colab": {}
      },
      "source": [
        "g = Graph()"
      ],
      "execution_count": 0,
      "outputs": []
    },
    {
      "cell_type": "code",
      "metadata": {
        "id": "URHwWVIx5F64",
        "colab_type": "code",
        "colab": {}
      },
      "source": [
        "g.addVertex('Alice')\n",
        "g.addVerticesFromList(['Bob', 'Carl'])"
      ],
      "execution_count": 0,
      "outputs": []
    },
    {
      "cell_type": "code",
      "metadata": {
        "id": "9GGTD8bc7QNi",
        "colab_type": "code",
        "colab": {}
      },
      "source": [
        "g.addEdge('Alice','Bob')\n",
        "g.addEdgesFromList([('Carl','Alice',1),('Alice','David'),('Alice','Ernst'),('Alice','Frank'),('Bob','Gail'),('Gail','Harry'),('Harry','Jen'),('Jen','Gail'),('Harry','Irene'),('Irene','Gail'),('Irene','Jen'),('Ernst','Frank'),('David','Carl'),('Carl','Frank')])"
      ],
      "execution_count": 0,
      "outputs": []
    },
    {
      "cell_type": "code",
      "metadata": {
        "id": "p8n9Tljb8i62",
        "colab_type": "code",
        "outputId": "4d24239d-679b-464e-d5dd-8665e190bf70",
        "colab": {
          "base_uri": "https://localhost:8080/",
          "height": 294
        }
      },
      "source": [
        "g.getEdges()"
      ],
      "execution_count": 168,
      "outputs": [
        {
          "output_type": "execute_result",
          "data": {
            "text/plain": [
              "[('Alice', 'Bob'),\n",
              " ('Carl', 'Alice', 1),\n",
              " ('Alice', 'David'),\n",
              " ('Alice', 'Ernst'),\n",
              " ('Alice', 'Frank'),\n",
              " ('Bob', 'Gail'),\n",
              " ('Gail', 'Harry'),\n",
              " ('Harry', 'Jen'),\n",
              " ('Jen', 'Gail'),\n",
              " ('Harry', 'Irene'),\n",
              " ('Irene', 'Gail'),\n",
              " ('Irene', 'Jen'),\n",
              " ('Ernst', 'Frank'),\n",
              " ('David', 'Carl'),\n",
              " ('Carl', 'Frank')]"
            ]
          },
          "metadata": {
            "tags": []
          },
          "execution_count": 168
        }
      ]
    },
    {
      "cell_type": "code",
      "metadata": {
        "id": "PHIMHlqd8mHr",
        "colab_type": "code",
        "outputId": "4bb02727-77d0-4759-e7a7-19f8159187b2",
        "colab": {
          "base_uri": "https://localhost:8080/",
          "height": 35
        }
      },
      "source": [
        "g.getVertices()"
      ],
      "execution_count": 169,
      "outputs": [
        {
          "output_type": "execute_result",
          "data": {
            "text/plain": [
              "dict_keys(['Alice', 'Bob', 'Carl', 'David', 'Ernst', 'Frank', 'Gail', 'Harry', 'Jen', 'Irene'])"
            ]
          },
          "metadata": {
            "tags": []
          },
          "execution_count": 169
        }
      ]
    },
    {
      "cell_type": "code",
      "metadata": {
        "id": "D19ILAhs4emH",
        "colab_type": "code",
        "outputId": "15dcfb9e-c61c-4aa7-9871-e62a0347daab",
        "colab": {
          "base_uri": "https://localhost:8080/",
          "height": 35
        }
      },
      "source": [
        "\"Patrycja\" in g"
      ],
      "execution_count": 170,
      "outputs": [
        {
          "output_type": "execute_result",
          "data": {
            "text/plain": [
              "False"
            ]
          },
          "metadata": {
            "tags": []
          },
          "execution_count": 170
        }
      ]
    },
    {
      "cell_type": "code",
      "metadata": {
        "id": "W2ku9X6N8zGy",
        "colab_type": "code",
        "outputId": "e5d61f23-c135-4bc8-e343-f6024a7bcf3a",
        "colab": {
          "base_uri": "https://localhost:8080/",
          "height": 35
        }
      },
      "source": [
        "'Jen' in g"
      ],
      "execution_count": 171,
      "outputs": [
        {
          "output_type": "execute_result",
          "data": {
            "text/plain": [
              "True"
            ]
          },
          "metadata": {
            "tags": []
          },
          "execution_count": 171
        }
      ]
    },
    {
      "cell_type": "code",
      "metadata": {
        "id": "nVE0U7kzYVPn",
        "colab_type": "code",
        "colab": {}
      },
      "source": [
        "g.saveGraph(\"graphviz_dot_file\")"
      ],
      "execution_count": 0,
      "outputs": []
    },
    {
      "cell_type": "code",
      "metadata": {
        "id": "0UgaSnSxbtt0",
        "colab_type": "code",
        "outputId": "866ffe52-72e8-4e14-c0e0-9fe0c22e69d6",
        "colab": {
          "base_uri": "https://localhost:8080/",
          "height": 331
        }
      },
      "source": [
        "file2 = open('graphviz_dot_file.txt',\"r\") \n",
        "print(file2.read())"
      ],
      "execution_count": 173,
      "outputs": [
        {
          "output_type": "stream",
          "text": [
            "graph G0 { \n",
            "Alice--Bob\n",
            "Carl--Alice\n",
            "Alice--David\n",
            "Alice--Ernst\n",
            "Alice--Frank\n",
            "Bob--Gail\n",
            "Gail--Harry\n",
            "Harry--Jen\n",
            "Jen--Gail\n",
            "Harry--Irene\n",
            "Irene--Gail\n",
            "Irene--Jen\n",
            "Ernst--Frank\n",
            "David--Carl\n",
            "Carl--Frank\n",
            "}\n"
          ],
          "name": "stdout"
        }
      ]
    },
    {
      "cell_type": "code",
      "metadata": {
        "id": "FYlhY5wmwn8B",
        "colab_type": "code",
        "outputId": "45ccb597-61bc-4c88-e18c-dddcbcc93bf1",
        "colab": {
          "base_uri": "https://localhost:8080/",
          "height": 560
        }
      },
      "source": [
        "from graphviz import Source\n",
        "\n",
        "text_from_file = str()\n",
        "with open('graphviz_dot_file.txt') as file:\n",
        "    text_from_file = file.read()\n",
        "\n",
        "src = Source(text_from_file)\n",
        "src"
      ],
      "execution_count": 174,
      "outputs": [
        {
          "output_type": "execute_result",
          "data": {
            "text/plain": [
              "<graphviz.files.Source at 0x7f58647f10b8>"
            ],
            "image/svg+xml": "<?xml version=\"1.0\" encoding=\"UTF-8\" standalone=\"no\"?>\n<!DOCTYPE svg PUBLIC \"-//W3C//DTD SVG 1.1//EN\"\n \"http://www.w3.org/Graphics/SVG/1.1/DTD/svg11.dtd\">\n<!-- Generated by graphviz version 2.40.1 (20161225.0304)\n -->\n<!-- Title: G0 Pages: 1 -->\n<svg width=\"312pt\" height=\"404pt\"\n viewBox=\"0.00 0.00 311.92 404.00\" xmlns=\"http://www.w3.org/2000/svg\" xmlns:xlink=\"http://www.w3.org/1999/xlink\">\n<g id=\"graph0\" class=\"graph\" transform=\"scale(1 1) rotate(0) translate(4 400)\">\n<title>G0</title>\n<polygon fill=\"#ffffff\" stroke=\"transparent\" points=\"-4,4 -4,-400 307.9234,-400 307.9234,4 -4,4\"/>\n<!-- Alice -->\n<g id=\"node1\" class=\"node\">\n<title>Alice</title>\n<ellipse fill=\"none\" stroke=\"#000000\" cx=\"233.4971\" cy=\"-378\" rx=\"30.5947\" ry=\"18\"/>\n<text text-anchor=\"middle\" x=\"233.4971\" y=\"-374.3\" font-family=\"Times,serif\" font-size=\"14.00\" fill=\"#000000\">Alice</text>\n</g>\n<!-- Bob -->\n<g id=\"node2\" class=\"node\">\n<title>Bob</title>\n<ellipse fill=\"none\" stroke=\"#000000\" cx=\"92.4971\" cy=\"-306\" rx=\"27\" ry=\"18\"/>\n<text text-anchor=\"middle\" x=\"92.4971\" y=\"-302.3\" font-family=\"Times,serif\" font-size=\"14.00\" fill=\"#000000\">Bob</text>\n</g>\n<!-- Alice&#45;&#45;Bob -->\n<g id=\"edge1\" class=\"edge\">\n<title>Alice&#45;&#45;Bob</title>\n<path fill=\"none\" stroke=\"#000000\" d=\"M210.2138,-366.1107C183.4631,-352.4507 139.9265,-330.2193 113.9647,-316.9622\"/>\n</g>\n<!-- David -->\n<g id=\"node4\" class=\"node\">\n<title>David</title>\n<ellipse fill=\"none\" stroke=\"#000000\" cx=\"171.4971\" cy=\"-306\" rx=\"33.5952\" ry=\"18\"/>\n<text text-anchor=\"middle\" x=\"171.4971\" y=\"-302.3\" font-family=\"Times,serif\" font-size=\"14.00\" fill=\"#000000\">David</text>\n</g>\n<!-- Alice&#45;&#45;David -->\n<g id=\"edge3\" class=\"edge\">\n<title>Alice&#45;&#45;David</title>\n<path fill=\"none\" stroke=\"#000000\" d=\"M219.4284,-361.6621C209.4246,-350.0448 196.0275,-334.4869 185.9405,-322.7729\"/>\n</g>\n<!-- Ernst -->\n<g id=\"node5\" class=\"node\">\n<title>Ernst</title>\n<ellipse fill=\"none\" stroke=\"#000000\" cx=\"260.4971\" cy=\"-234\" rx=\"30.5947\" ry=\"18\"/>\n<text text-anchor=\"middle\" x=\"260.4971\" y=\"-230.3\" font-family=\"Times,serif\" font-size=\"14.00\" fill=\"#000000\">Ernst</text>\n</g>\n<!-- Alice&#45;&#45;Ernst -->\n<g id=\"edge4\" class=\"edge\">\n<title>Alice&#45;&#45;Ernst</title>\n<path fill=\"none\" stroke=\"#000000\" d=\"M238.6631,-360.1149C241.5517,-349.6532 245.0517,-336.1532 247.4971,-324 252.4798,-299.2369 256.3123,-270.2714 258.4859,-252.0296\"/>\n</g>\n<!-- Frank -->\n<g id=\"node6\" class=\"node\">\n<title>Frank</title>\n<ellipse fill=\"none\" stroke=\"#000000\" cx=\"260.4971\" cy=\"-162\" rx=\"32.4942\" ry=\"18\"/>\n<text text-anchor=\"middle\" x=\"260.4971\" y=\"-158.3\" font-family=\"Times,serif\" font-size=\"14.00\" fill=\"#000000\">Frank</text>\n</g>\n<!-- Alice&#45;&#45;Frank -->\n<g id=\"edge5\" class=\"edge\">\n<title>Alice&#45;&#45;Frank</title>\n<path fill=\"none\" stroke=\"#000000\" d=\"M246.1016,-361.2094C262.5677,-338.0785 290.4788,-294.4381 300.4971,-252 304.1732,-236.428 305.5116,-231.1939 300.4971,-216 295.7438,-201.5972 285.5031,-187.897 276.5739,-177.9\"/>\n</g>\n<!-- Gail -->\n<g id=\"node7\" class=\"node\">\n<title>Gail</title>\n<ellipse fill=\"none\" stroke=\"#000000\" cx=\"92.4971\" cy=\"-234\" rx=\"27\" ry=\"18\"/>\n<text text-anchor=\"middle\" x=\"92.4971\" y=\"-230.3\" font-family=\"Times,serif\" font-size=\"14.00\" fill=\"#000000\">Gail</text>\n</g>\n<!-- Bob&#45;&#45;Gail -->\n<g id=\"edge6\" class=\"edge\">\n<title>Bob&#45;&#45;Gail</title>\n<path fill=\"none\" stroke=\"#000000\" d=\"M92.4971,-287.8314C92.4971,-277 92.4971,-263.2876 92.4971,-252.4133\"/>\n</g>\n<!-- Carl -->\n<g id=\"node3\" class=\"node\">\n<title>Carl</title>\n<ellipse fill=\"none\" stroke=\"#000000\" cx=\"184.4971\" cy=\"-234\" rx=\"27\" ry=\"18\"/>\n<text text-anchor=\"middle\" x=\"184.4971\" y=\"-230.3\" font-family=\"Times,serif\" font-size=\"14.00\" fill=\"#000000\">Carl</text>\n</g>\n<!-- Carl&#45;&#45;Alice -->\n<g id=\"edge2\" class=\"edge\">\n<title>Carl&#45;&#45;Alice</title>\n<path fill=\"none\" stroke=\"#000000\" d=\"M195.5992,-250.8758C201.9574,-261.2188 209.6173,-274.9399 214.4971,-288 223.496,-312.0845 228.6909,-341.4723 231.3073,-359.9668\"/>\n</g>\n<!-- Carl&#45;&#45;Frank -->\n<g id=\"edge15\" class=\"edge\">\n<title>Carl&#45;&#45;Frank</title>\n<path fill=\"none\" stroke=\"#000000\" d=\"M200.2444,-219.0816C213.027,-206.9717 230.9965,-189.9479 243.9814,-177.6465\"/>\n</g>\n<!-- David&#45;&#45;Carl -->\n<g id=\"edge14\" class=\"edge\">\n<title>David&#45;&#45;Carl</title>\n<path fill=\"none\" stroke=\"#000000\" d=\"M174.7776,-287.8314C176.7633,-276.8334 179.2854,-262.865 181.2628,-251.9134\"/>\n</g>\n<!-- Ernst&#45;&#45;Frank -->\n<g id=\"edge13\" class=\"edge\">\n<title>Ernst&#45;&#45;Frank</title>\n<path fill=\"none\" stroke=\"#000000\" d=\"M260.4971,-215.8314C260.4971,-205 260.4971,-191.2876 260.4971,-180.4133\"/>\n</g>\n<!-- Harry -->\n<g id=\"node8\" class=\"node\">\n<title>Harry</title>\n<ellipse fill=\"none\" stroke=\"#000000\" cx=\"32.4971\" cy=\"-162\" rx=\"32.4942\" ry=\"18\"/>\n<text text-anchor=\"middle\" x=\"32.4971\" y=\"-158.3\" font-family=\"Times,serif\" font-size=\"14.00\" fill=\"#000000\">Harry</text>\n</g>\n<!-- Gail&#45;&#45;Harry -->\n<g id=\"edge7\" class=\"edge\">\n<title>Gail&#45;&#45;Harry</title>\n<path fill=\"none\" stroke=\"#000000\" d=\"M79.1812,-218.0209C69.3762,-206.255 56.085,-190.3055 46.1918,-178.4336\"/>\n</g>\n<!-- Jen -->\n<g id=\"node9\" class=\"node\">\n<title>Jen</title>\n<ellipse fill=\"none\" stroke=\"#000000\" cx=\"81.4971\" cy=\"-18\" rx=\"27\" ry=\"18\"/>\n<text text-anchor=\"middle\" x=\"81.4971\" y=\"-14.3\" font-family=\"Times,serif\" font-size=\"14.00\" fill=\"#000000\">Jen</text>\n</g>\n<!-- Harry&#45;&#45;Jen -->\n<g id=\"edge8\" class=\"edge\">\n<title>Harry&#45;&#45;Jen</title>\n<path fill=\"none\" stroke=\"#000000\" d=\"M32.1564,-143.7882C32.3899,-125.1513 34.3937,-95.652 43.4971,-72 48.9325,-57.878 58.8657,-43.9623 67.2132,-33.7949\"/>\n</g>\n<!-- Irene -->\n<g id=\"node10\" class=\"node\">\n<title>Irene</title>\n<ellipse fill=\"none\" stroke=\"#000000\" cx=\"81.4971\" cy=\"-90\" rx=\"29.4969\" ry=\"18\"/>\n<text text-anchor=\"middle\" x=\"81.4971\" y=\"-86.3\" font-family=\"Times,serif\" font-size=\"14.00\" fill=\"#000000\">Irene</text>\n</g>\n<!-- Harry&#45;&#45;Irene -->\n<g id=\"edge10\" class=\"edge\">\n<title>Harry&#45;&#45;Irene</title>\n<path fill=\"none\" stroke=\"#000000\" d=\"M44.1094,-144.937C51.9204,-133.4596 62.1746,-118.3922 69.9682,-106.9405\"/>\n</g>\n<!-- Jen&#45;&#45;Gail -->\n<g id=\"edge9\" class=\"edge\">\n<title>Jen&#45;&#45;Gail</title>\n<path fill=\"none\" stroke=\"#000000\" d=\"M96.3922,-33.5808C104.9697,-43.6676 114.93,-57.5737 119.4971,-72 135.6761,-123.1045 113.5309,-186.5169 100.6248,-216.599\"/>\n</g>\n<!-- Irene&#45;&#45;Gail -->\n<g id=\"edge11\" class=\"edge\">\n<title>Irene&#45;&#45;Gail</title>\n<path fill=\"none\" stroke=\"#000000\" d=\"M82.879,-108.0896C84.9881,-135.7005 88.9881,-188.0633 91.104,-215.7623\"/>\n</g>\n<!-- Irene&#45;&#45;Jen -->\n<g id=\"edge12\" class=\"edge\">\n<title>Irene&#45;&#45;Jen</title>\n<path fill=\"none\" stroke=\"#000000\" d=\"M81.4971,-71.8314C81.4971,-61 81.4971,-47.2876 81.4971,-36.4133\"/>\n</g>\n</g>\n</svg>\n"
          },
          "metadata": {
            "tags": []
          },
          "execution_count": 174
        }
      ]
    },
    {
      "cell_type": "code",
      "metadata": {
        "id": "HRvt3gNA9VrJ",
        "colab_type": "code",
        "outputId": "c001bf96-aa66-4490-df26-a60b6fcf137d",
        "colab": {
          "base_uri": "https://localhost:8080/",
          "height": 202
        }
      },
      "source": [
        "for node in g.getVertices():\n",
        "  print(node, ':', g.getNeighbors(node))"
      ],
      "execution_count": 175,
      "outputs": [
        {
          "output_type": "stream",
          "text": [
            "Alice : ['Bob', 'Carl', 'David', 'Ernst', 'Frank']\n",
            "Bob : ['Alice', 'Gail']\n",
            "Carl : ['Alice', 'David', 'Frank']\n",
            "David : ['Alice', 'Carl']\n",
            "Ernst : ['Alice', 'Frank']\n",
            "Frank : ['Alice', 'Ernst', 'Carl']\n",
            "Gail : ['Bob', 'Harry', 'Jen', 'Irene']\n",
            "Harry : ['Gail', 'Jen', 'Irene']\n",
            "Jen : ['Harry', 'Gail', 'Irene']\n",
            "Irene : ['Harry', 'Gail', 'Jen']\n"
          ],
          "name": "stdout"
        }
      ]
    },
    {
      "cell_type": "code",
      "metadata": {
        "id": "2acrFq-FTkbF",
        "colab_type": "code",
        "outputId": "4966ccd8-c374-4abb-8897-18cbfd170310",
        "colab": {
          "base_uri": "https://localhost:8080/",
          "height": 202
        }
      },
      "source": [
        "for node in g.getVertices():\n",
        "  print(node, ':', g.getShortestPaths(node))"
      ],
      "execution_count": 176,
      "outputs": [
        {
          "output_type": "stream",
          "text": [
            "Alice : {'Bob': 1, 'Carl': 1, 'David': 1, 'Ernst': 1, 'Frank': 1, 'Gail': 2, 'Harry': 3, 'Jen': 3, 'Irene': 3}\n",
            "Bob : {'Alice': 1, 'Gail': 1, 'Carl': 2, 'David': 2, 'Ernst': 2, 'Frank': 2, 'Harry': 2, 'Jen': 2, 'Irene': 2}\n",
            "Carl : {'Alice': 1, 'David': 1, 'Frank': 1, 'Bob': 2, 'Ernst': 2, 'Gail': 3, 'Harry': 4, 'Jen': 4, 'Irene': 4}\n",
            "David : {'Alice': 1, 'Carl': 1, 'Bob': 2, 'Ernst': 2, 'Frank': 2, 'Gail': 3, 'Harry': 4, 'Jen': 4, 'Irene': 4}\n",
            "Ernst : {'Alice': 1, 'Frank': 1, 'Bob': 2, 'Carl': 2, 'David': 2, 'Gail': 3, 'Harry': 4, 'Jen': 4, 'Irene': 4}\n",
            "Frank : {'Alice': 1, 'Ernst': 1, 'Carl': 1, 'Bob': 2, 'David': 2, 'Gail': 3, 'Harry': 4, 'Jen': 4, 'Irene': 4}\n",
            "Gail : {'Bob': 1, 'Harry': 1, 'Jen': 1, 'Irene': 1, 'Alice': 2, 'Carl': 3, 'David': 3, 'Ernst': 3, 'Frank': 3}\n",
            "Harry : {'Gail': 1, 'Jen': 1, 'Irene': 1, 'Bob': 2, 'Alice': 3, 'Carl': 4, 'David': 4, 'Ernst': 4, 'Frank': 4}\n",
            "Jen : {'Harry': 1, 'Gail': 1, 'Irene': 1, 'Bob': 2, 'Alice': 3, 'Carl': 4, 'David': 4, 'Ernst': 4, 'Frank': 4}\n",
            "Irene : {'Harry': 1, 'Gail': 1, 'Jen': 1, 'Bob': 2, 'Alice': 3, 'Carl': 4, 'David': 4, 'Ernst': 4, 'Frank': 4}\n"
          ],
          "name": "stdout"
        }
      ]
    }
  ]
}