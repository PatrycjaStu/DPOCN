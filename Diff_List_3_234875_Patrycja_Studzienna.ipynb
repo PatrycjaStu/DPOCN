{
  "nbformat": 4,
  "nbformat_minor": 0,
  "metadata": {
    "colab": {
      "name": "Untitled12.ipynb",
      "provenance": []
    },
    "kernelspec": {
      "name": "python3",
      "display_name": "Python 3"
    }
  },
  "cells": [
    {
      "cell_type": "markdown",
      "metadata": {
        "id": "UB-GoAOowXYx",
        "colab_type": "text"
      },
      "source": [
        "# Assignment 3"
      ]
    },
    {
      "cell_type": "markdown",
      "metadata": {
        "id": "yuDmlUMhwe22",
        "colab_type": "text"
      },
      "source": [
        "## I use my own class from previous assignment"
      ]
    },
    {
      "cell_type": "code",
      "metadata": {
        "id": "6VT8uPgrwpDp",
        "colab_type": "code",
        "colab": {}
      },
      "source": [
        "class Graph():\n",
        "  def __init__(self):\n",
        "    '''Function creates graph object.'''\n",
        "    self.vertices = dict()\n",
        "    self.edges = []\n",
        "\n",
        "  def addVertex(self,vert):\n",
        "    '''Function adds vertex to the graph object.\n",
        "    \n",
        "    Keyword arguments:\n",
        "    vert -- vertex label\n",
        "    '''\n",
        "    if vert not in self.vertices.keys():\n",
        "        self.vertices[vert] = []\n",
        "    else:\n",
        "      print(\"Node exist in the graph!\")\n",
        "\n",
        "  def getVertices(self):\n",
        "    '''Function return list of vertices.'''\n",
        "    return self.vertices.keys()\n",
        "\n",
        "  def addVerticesFromList(self,vertList):\n",
        "    '''Function adds all vertices from list to the graph object.\n",
        "    \n",
        "    Keyword arguments:\n",
        "    vertList -- list of vertices\n",
        "    '''\n",
        "    if type(vertList)!=list:\n",
        "      print('Argument must be type list')\n",
        "      pass\n",
        "    \n",
        "    for vertex in vertList:\n",
        "      self.addVertex(vertex)\n",
        "\n",
        "  def addEdge(self,vert1,vert2,*weight):\n",
        "    '''Function adds weighted edge between vertices in the graph \n",
        "    object. Add new vertices to vertices list. \n",
        "    \n",
        "    Keyword arguments:\n",
        "    vert1 -- first vertex label\n",
        "    vert2 -- second vertex label\n",
        "    *weight -- weight of edge\n",
        "    '''\n",
        "    if (vert1,vert2,*weight) in self.edges:\n",
        "      #print (\"Edge exists in the graph\")\n",
        "      pass\n",
        "    if (vert2,vert1,*weight) in self.edges:\n",
        "      #print (\"Edge exists in the graph\")\n",
        "      pass\n",
        "\n",
        "    if vert1 not in self.vertices:\n",
        "      self.vertices[vert1]=[vert2]\n",
        "    else:\n",
        "      self.vertices[vert1].append(vert2)\n",
        "\n",
        "    if vert2 not in self.vertices:\n",
        "      self.vertices[vert2]=[vert1]\n",
        "    else:\n",
        "      self.vertices[vert2].append(vert1)\n",
        "    \n",
        "    self.edges.append((vert1,vert2,*weight))\n",
        "\n",
        "  def getEdges(self):\n",
        "    '''Function returs list of edges in the graph.'''\n",
        "    return self.edges\n",
        "\n",
        "  def addEdgesFromList(self,edgeList):\n",
        "    '''Function adds edges from the list to the graph.\n",
        "\n",
        "    Keyword arguments:\n",
        "    edgeList -- list of edges, elements are tuples\n",
        "    '''\n",
        "    if type(edgeList)!=list:\n",
        "      print(\"Argument must be type list\")\n",
        "      pass\n",
        "\n",
        "    for element in edgeList:\n",
        "      if type(element)!=tuple:\n",
        "        print(\"List must contain elements type tuple\")\n",
        "        pass\n",
        "        \n",
        "    for edge in edgeList:\n",
        "      if len(edge)==3:\n",
        "        self.addEdge(edge[0],edge[1],edge[2])\n",
        "      elif len(edge)==2:\n",
        "        self.addEdge(edge[0],edge[1])\n",
        "\n",
        "  def getNeighbors(self,vertKey):\n",
        "    '''Function returns the list of neighbors of vertex\n",
        "    from function argument.\n",
        "\n",
        "    Keyword arguments:\n",
        "    vertKey -- label of vertex\n",
        "    '''\n",
        "    return self.vertices[vertKey]\n",
        "\n",
        "  def __contains__(self,vert):\n",
        "    '''Function returns True if vertex from argument is in the graph\n",
        "    or False otherwise.\n",
        "\n",
        "    Keyword arguments:\n",
        "    vert -- label of vertex\n",
        "    '''\n",
        "    if vert in self.vertices:\n",
        "      return True\n",
        "    else:\n",
        "      return False\n",
        "  \n",
        "\n",
        "  def saveGraph(self,graph):\n",
        "    '''Function creates text file with graph in dot language.\n",
        "\n",
        "    Keyword arguments:\n",
        "    graph -- name of file\n",
        "    '''\n",
        "    seperator = ''\n",
        "    graphviz_dot_file = open(seperator.join((graph,\".txt\")),\"w\") \n",
        "    graphviz_dot_file.write(\"graph G0 { \\n\")\n",
        "    for element in self.edges:\n",
        "      graphviz_dot_file.write(seperator.join((str(element[0]),'--',str(element[1]),'\\n')))\n",
        "    graphviz_dot_file.write(\"}\")\n",
        "    graphviz_dot_file.close()\n",
        "\n",
        "  def getShortestPaths(self,fromVert):\n",
        "    '''Function creates dictionary  shortest paths in the graph \n",
        "    from the given vertex to all other vertices.\n",
        "\n",
        "    Keyword arguments:\n",
        "    fromVert -- label of start vertex\n",
        "    '''\n",
        "    neighbors_dict = dict()\n",
        "    path = 1\n",
        "    neighbors = self.getNeighbors(fromVert)\n",
        "    for node in neighbors:\n",
        "      neighbors_dict[node] = path\n",
        "    while True:\n",
        "      neighbors_neighbors = []    # list of neighbors of neighbors\n",
        "      for node in neighbors:\n",
        "        neighbors = self.getNeighbors(node)\n",
        "        for element in neighbors:\n",
        "          neighbors_neighbors.append(element)\n",
        "      new_neighbor = 0  # counter on new nodes in step in loop\n",
        "      path += 1   # length of path in this step\n",
        "      for element in neighbors_neighbors:\n",
        "        if element not in neighbors_dict:\n",
        "          if element != fromVert:   \n",
        "            neighbors_dict[element] = path\n",
        "            new_neighbor += 1\n",
        "      if new_neighbor == 0:\n",
        "        break     # break if there is no new path\n",
        "      neighbors = neighbors_neighbors\n",
        "    return neighbors_dict"
      ],
      "execution_count": 0,
      "outputs": []
    },
    {
      "cell_type": "markdown",
      "metadata": {
        "id": "Vnit3dbCwtPL",
        "colab_type": "text"
      },
      "source": [
        "##**Exercise 1**"
      ]
    },
    {
      "cell_type": "code",
      "metadata": {
        "id": "MEPRmaF3Tv4S",
        "colab_type": "code",
        "colab": {}
      },
      "source": [
        "import itertools\n",
        "import random as rn\n",
        "import numpy as np\n",
        "from scipy.special import binom \n",
        "from math import factorial \n",
        "from scipy.stats import poisson \n",
        "import matplotlib.pyplot as plt\n",
        "import math\n",
        "from statsmodels.distributions.empirical_distribution import ECDF\n",
        "import statistics\n",
        "import csv\n",
        "import urllib\n",
        "import networkx as nx"
      ],
      "execution_count": 0,
      "outputs": []
    },
    {
      "cell_type": "markdown",
      "metadata": {
        "id": "7hK-FHFPwynt",
        "colab_type": "text"
      },
      "source": [
        "##Random Graph"
      ]
    },
    {
      "cell_type": "code",
      "metadata": {
        "id": "UY7M0cWQwn_M",
        "colab_type": "code",
        "colab": {}
      },
      "source": [
        "def RandomGraph(N,p):\n",
        "  ''' Function creates random graph with N nodes and probability of connection p'''\n",
        "  random_graph = Graph()\n",
        "  random_graph.addVerticesFromList(list(range(N)))\n",
        "  # adding edge with probability p for all possible pairs of vertices\n",
        "  for pair in list(itertools.combinations(list(range(N)), 2)):   \n",
        "    if p>rn.random():\n",
        "      random_graph.addEdge(pair[0],pair[1])\n",
        "  return random_graph"
      ],
      "execution_count": 0,
      "outputs": []
    },
    {
      "cell_type": "code",
      "metadata": {
        "id": "xxBxDexsw5aV",
        "colab_type": "code",
        "colab": {}
      },
      "source": [
        "rg1 = RandomGraph(800,.2)\n",
        "rg2 = RandomGraph(500,.5)\n",
        "rg3 = RandomGraph(100,.95)"
      ],
      "execution_count": 0,
      "outputs": []
    },
    {
      "cell_type": "markdown",
      "metadata": {
        "id": "ICNlbPWMxBrj",
        "colab_type": "text"
      },
      "source": [
        "## Number of vertices"
      ]
    },
    {
      "cell_type": "code",
      "metadata": {
        "id": "Y7xFHJzyxGQz",
        "colab_type": "code",
        "colab": {
          "base_uri": "https://localhost:8080/",
          "height": 72
        },
        "outputId": "28bd51f1-ff3c-47b1-94e5-767ab8cfd4eb"
      },
      "source": [
        "print(len(rg1.getVertices()))\n",
        "print(len(rg2.getVertices()))\n",
        "print(len(rg3.getVertices()))"
      ],
      "execution_count": 38,
      "outputs": [
        {
          "output_type": "stream",
          "text": [
            "800\n",
            "500\n",
            "100\n"
          ],
          "name": "stdout"
        }
      ]
    },
    {
      "cell_type": "markdown",
      "metadata": {
        "id": "RtVP152axKmz",
        "colab_type": "text"
      },
      "source": [
        "##Number of edges"
      ]
    },
    {
      "cell_type": "code",
      "metadata": {
        "id": "_yL9WLTixN37",
        "colab_type": "code",
        "colab": {
          "base_uri": "https://localhost:8080/",
          "height": 72
        },
        "outputId": "b303b01b-5fcc-4ff4-fb09-9c87ccb15b88"
      },
      "source": [
        "print(len(rg1.getEdges()))\n",
        "print(len(rg2.getEdges()))\n",
        "print(len(rg3.getEdges()))"
      ],
      "execution_count": 39,
      "outputs": [
        {
          "output_type": "stream",
          "text": [
            "64041\n",
            "62431\n",
            "4671\n"
          ],
          "name": "stdout"
        }
      ]
    },
    {
      "cell_type": "markdown",
      "metadata": {
        "id": "ukYyNZYnxOky",
        "colab_type": "text"
      },
      "source": [
        "##Average degree"
      ]
    },
    {
      "cell_type": "code",
      "metadata": {
        "id": "k6_npSGsxUOp",
        "colab_type": "code",
        "colab": {
          "base_uri": "https://localhost:8080/",
          "height": 72
        },
        "outputId": "77b19ea7-53a9-45ea-94b6-41dcf287f5f6"
      },
      "source": [
        "print(len(rg1.getEdges())/len(list(rg1.getVertices())))\n",
        "print(len(rg2.getEdges())/len(list(rg2.getVertices())))\n",
        "print(len(rg3.getEdges())/len(list(rg3.getVertices())))"
      ],
      "execution_count": 40,
      "outputs": [
        {
          "output_type": "stream",
          "text": [
            "80.05125\n",
            "124.862\n",
            "46.71\n"
          ],
          "name": "stdout"
        }
      ]
    },
    {
      "cell_type": "markdown",
      "metadata": {
        "id": "8qkhMQpKxW8k",
        "colab_type": "text"
      },
      "source": [
        "##Variance of degree distribution"
      ]
    },
    {
      "cell_type": "code",
      "metadata": {
        "id": "cYJnr2Vqxa-Y",
        "colab_type": "code",
        "colab": {
          "base_uri": "https://localhost:8080/",
          "height": 72
        },
        "outputId": "d99074bc-b06d-4d86-c4e8-3c9e2cfcab08"
      },
      "source": [
        "dist_rg1 = []\n",
        "dist_rg2 = []\n",
        "dist_rg3 = []\n",
        "for node in list(rg1.getVertices()):\n",
        "  dist_rg1.append(len(rg1.getNeighbors(node)))\n",
        "\n",
        "for node in list(rg2.getVertices()):\n",
        "  dist_rg2.append(len(rg2.getNeighbors(node)))\n",
        "\n",
        "for node in list(rg3.getVertices()):\n",
        "  dist_rg3.append(len(rg3.getNeighbors(node)))\n",
        "\n",
        "print(statistics.variance(dist_rg1))\n",
        "print(statistics.variance(dist_rg2))\n",
        "print(statistics.variance(dist_rg3))"
      ],
      "execution_count": 41,
      "outputs": [
        {
          "output_type": "stream",
          "text": [
            "122.60024405506883\n",
            "130.95773947895793\n",
            "5.074343434343434\n"
          ],
          "name": "stdout"
        }
      ]
    },
    {
      "cell_type": "markdown",
      "metadata": {
        "id": "q25asU2OxbsK",
        "colab_type": "text"
      },
      "source": [
        "| p |  vertices | edges | av deg | variance|\n",
        "|------|------|------|------|------|\n",
        "|   0.2  | 800| 64041|80 |123 |\n",
        "|0.5|500|62431|125|131|\n",
        "|0.95|100|4671|47|5|"
      ]
    },
    {
      "cell_type": "markdown",
      "metadata": {
        "id": "f2By-Yv2xhdb",
        "colab_type": "text"
      },
      "source": [
        "##Frequency plot"
      ]
    },
    {
      "cell_type": "code",
      "metadata": {
        "id": "ApVCKUqaxiRa",
        "colab_type": "code",
        "colab": {
          "base_uri": "https://localhost:8080/",
          "height": 283
        },
        "outputId": "a6f3625f-009e-4a2c-ac1f-e7f2b751291d"
      },
      "source": [
        "plt.hist(dist_rg1,label='p=0.2', density=True)\n",
        "plt.hist(dist_rg2,label='p=0.5', density=True)\n",
        "plt.hist(dist_rg3,label='p=0.95', density=True)\n",
        "plt.legend()"
      ],
      "execution_count": 42,
      "outputs": [
        {
          "output_type": "execute_result",
          "data": {
            "text/plain": [
              "<matplotlib.legend.Legend at 0x7f6778316cc0>"
            ]
          },
          "metadata": {
            "tags": []
          },
          "execution_count": 42
        },
        {
          "output_type": "display_data",
          "data": {
            "image/png": "[encoded data removed]",
            "text/plain": [
              "<Figure size 432x288 with 1 Axes>"
            ]
          },
          "metadata": {
            "tags": [],
            "needs_background": "light"
          }
        }
      ]
    },
    {
      "cell_type": "markdown",
      "metadata": {
        "id": "C4cXFsVhxoHI",
        "colab_type": "text"
      },
      "source": [
        "##Fit a model distribution (Poisson and Binomial)"
      ]
    },
    {
      "cell_type": "code",
      "metadata": {
        "id": "GIqy5GTTxrne",
        "colab_type": "code",
        "colab": {
          "base_uri": "https://localhost:8080/",
          "height": 283
        },
        "outputId": "687c76ff-d04b-4932-c1a3-4c7685582a0d"
      },
      "source": [
        "#method from lecture\n",
        "#random graph 1\n",
        "sample = dist_rg2\n",
        "p=.5\n",
        "N = 500\n",
        "unique, counts = np.unique(sample, return_counts=True) \n",
        "deg = dict(zip(unique, counts))\n",
        "keys = sorted(deg.keys()) \n",
        "vals = [] \n",
        "for k in keys:\n",
        "  vals.append(deg[k]/len(sample)) \n",
        "plt.plot(keys,vals,'.',label='Experimental') \n",
        "\n",
        "kaver = int(p*(N-1)) \n",
        "kvals1 = np.arange(1,N+1) \n",
        "pk1 = np.zeros(N,dtype=float) \n",
        "for k in kvals1:\n",
        "  pk1[k-1] = binom(N-1,k)*(p**k)*(1-p)**(N-1-k)\n",
        "plt.plot(kvals1,pk1,'r',label='Binomial')\n",
        "\n",
        "poi1 = np.zeros(N,dtype=float)\n",
        "i = 0 \n",
        "for k in kvals1:\n",
        "  poi1[i] = poisson.pmf(k,kaver)\n",
        "  i = i+1\n",
        "\n",
        "plt.plot(kvals1,poi1,'g',label='Poison')\n",
        "plt.legend()"
      ],
      "execution_count": 45,
      "outputs": [
        {
          "output_type": "execute_result",
          "data": {
            "text/plain": [
              "<matplotlib.legend.Legend at 0x7f6776920c88>"
            ]
          },
          "metadata": {
            "tags": []
          },
          "execution_count": 45
        },
        {
          "output_type": "display_data",
          "data": {
            "image/png": "[encoded data removed]",
            "text/plain": [
              "<Figure size 432x288 with 1 Axes>"
            ]
          },
          "metadata": {
            "tags": [],
            "needs_background": "light"
          }
        }
      ]
    },
    {
      "cell_type": "markdown",
      "metadata": {
        "id": "wkDRCqmfxudV",
        "colab_type": "text"
      },
      "source": [
        "#Watts-Strogats model"
      ]
    },
    {
      "cell_type": "code",
      "metadata": {
        "id": "VD-BNDphxxbD",
        "colab_type": "code",
        "colab": {}
      },
      "source": [
        "def WSModelGraph(N,p,K):\n",
        "  '''Function creates Watts-Strogats model graph with N nodes, connected with prbability p. Initialized circle graph has degree K'''\n",
        "\n",
        "  # creating edges between vertices in ring of nodes\n",
        "  edges = [] \n",
        "  for i in range(N):\n",
        "    for j in range(1,int(K/2)+1):\n",
        "      if i+j<N:\n",
        "        edges.append((i,i+j))\n",
        "      else:\n",
        "        edges.append((i,i+j-N))\n",
        "\n",
        "  #choosing random edge from node1\n",
        "  for node1 in range(N):\n",
        "    for edge in [link for link in edges if node1 in link]:\n",
        "      if p>rn.random():\n",
        "        #choosing random node that is not connected with node1\n",
        "        new_node = rn.choice([vert for vert in list(range(N))])\n",
        "        while new_node == node1:\n",
        "          new_node = rn.choice([vert for vert in list(range(N))])\n",
        "        #new edge is added and the previous one is removed\n",
        "        if (node1,new_node) and(new_node,node1) not in edges:\n",
        "          edges.append((node1,new_node))\n",
        "          edges.remove(edge)\n",
        "  \n",
        "  WSmodel_graph = Graph()\n",
        "  WSmodel_graph.addVerticesFromList(list(range(N)))\n",
        "  WSmodel_graph.addEdgesFromList(edges)\n",
        "  return WSmodel_graph "
      ],
      "execution_count": 0,
      "outputs": []
    },
    {
      "cell_type": "code",
      "metadata": {
        "id": "ldH4bxg6x04c",
        "colab_type": "code",
        "colab": {}
      },
      "source": [
        "K1=2\n",
        "K2=20\n",
        "N=2000\n",
        "ws_model_graph1 = WSModelGraph(N,.4,K1)\n",
        "ws_model_graph2 = WSModelGraph(N,.4,K2)\n",
        "ws_model_graph3 = WSModelGraph(N,.9,K1)\n",
        "ws_model_graph4 = WSModelGraph(N,.9,K2)"
      ],
      "execution_count": 0,
      "outputs": []
    },
    {
      "cell_type": "markdown",
      "metadata": {
        "id": "8NyMX3nCx3Pp",
        "colab_type": "text"
      },
      "source": [
        "##Number of edges"
      ]
    },
    {
      "cell_type": "code",
      "metadata": {
        "id": "xRTZiYYAx8GA",
        "colab_type": "code",
        "colab": {
          "base_uri": "https://localhost:8080/",
          "height": 91
        },
        "outputId": "bb854a98-dcaf-42e0-9b3b-cb41867a9cdc"
      },
      "source": [
        "print(len(ws_model_graph1.getEdges()))\n",
        "print(len(ws_model_graph2.getEdges()))\n",
        "print(len(ws_model_graph3.getEdges()))\n",
        "print(len(ws_model_graph4.getEdges()))"
      ],
      "execution_count": 49,
      "outputs": [
        {
          "output_type": "stream",
          "text": [
            "2000\n",
            "20000\n",
            "2000\n",
            "20000\n"
          ],
          "name": "stdout"
        }
      ]
    },
    {
      "cell_type": "markdown",
      "metadata": {
        "id": "F8nLwBsox_XT",
        "colab_type": "text"
      },
      "source": [
        "##Number of vertices"
      ]
    },
    {
      "cell_type": "code",
      "metadata": {
        "id": "6LMaIQ05yCD1",
        "colab_type": "code",
        "colab": {
          "base_uri": "https://localhost:8080/",
          "height": 91
        },
        "outputId": "e0d7faf7-e456-4689-b12d-2bfe30a83df7"
      },
      "source": [
        "print(len(ws_model_graph1.getVertices()))\n",
        "print(len(ws_model_graph2.getVertices()))\n",
        "print(len(ws_model_graph3.getVertices()))\n",
        "print(len(ws_model_graph4.getVertices()))"
      ],
      "execution_count": 50,
      "outputs": [
        {
          "output_type": "stream",
          "text": [
            "2000\n",
            "2000\n",
            "2000\n",
            "2000\n"
          ],
          "name": "stdout"
        }
      ]
    },
    {
      "cell_type": "markdown",
      "metadata": {
        "id": "pZxxnz7zyEX2",
        "colab_type": "text"
      },
      "source": [
        "##Average degree"
      ]
    },
    {
      "cell_type": "code",
      "metadata": {
        "id": "Edaa5Be6yIP7",
        "colab_type": "code",
        "colab": {
          "base_uri": "https://localhost:8080/",
          "height": 91
        },
        "outputId": "9f358b17-c635-4756-f227-4848b7bea730"
      },
      "source": [
        "print(len(ws_model_graph1.getEdges())/len(list(ws_model_graph1.getVertices())))\n",
        "print(len(ws_model_graph2.getEdges())/len(list(ws_model_graph2.getVertices())))\n",
        "print(len(ws_model_graph3.getEdges())/len(list(ws_model_graph3.getVertices())))\n",
        "print(len(ws_model_graph4.getEdges())/len(list(ws_model_graph4.getVertices())))"
      ],
      "execution_count": 51,
      "outputs": [
        {
          "output_type": "stream",
          "text": [
            "1.0\n",
            "10.0\n",
            "1.0\n",
            "10.0\n"
          ],
          "name": "stdout"
        }
      ]
    },
    {
      "cell_type": "markdown",
      "metadata": {
        "id": "xng7AJhVyMp-",
        "colab_type": "text"
      },
      "source": [
        "##Variance of distribution"
      ]
    },
    {
      "cell_type": "code",
      "metadata": {
        "id": "sYyW4dIDyQwC",
        "colab_type": "code",
        "colab": {
          "base_uri": "https://localhost:8080/",
          "height": 91
        },
        "outputId": "623cc301-8c1f-405e-cf57-612838aae277"
      },
      "source": [
        "dist_ws1 = []\n",
        "dist_ws2 = []\n",
        "dist_ws3 = []\n",
        "dist_ws4 = []\n",
        "for node in list(ws_model_graph1.getVertices()):\n",
        "  dist_ws1.append(len(ws_model_graph1.getNeighbors(node)))\n",
        "\n",
        "for node in list(ws_model_graph2.getVertices()):\n",
        "  dist_ws2.append(len(ws_model_graph2.getNeighbors(node)))\n",
        "\n",
        "for node in list(ws_model_graph3.getVertices()):\n",
        "  dist_ws3.append(len(ws_model_graph3.getNeighbors(node)))\n",
        "\n",
        "for node in list(ws_model_graph4.getVertices()):\n",
        "  dist_ws4.append(len(ws_model_graph4.getNeighbors(node)))\n",
        "\n",
        "print(statistics.variance(dist_ws1))\n",
        "print(statistics.variance(dist_ws2))\n",
        "print(statistics.variance(dist_ws3))\n",
        "print(statistics.variance(dist_ws4))"
      ],
      "execution_count": 52,
      "outputs": [
        {
          "output_type": "stream",
          "text": [
            "1.2296148074037019\n",
            "12.581290645322662\n",
            "1.7978989494747373\n",
            "23.094547273636817\n"
          ],
          "name": "stdout"
        }
      ]
    },
    {
      "cell_type": "markdown",
      "metadata": {
        "id": "ArV4jaU3ydx_",
        "colab_type": "text"
      },
      "source": [
        "| p | K| vertices | edges | av deg | variance|\n",
        "|------|------|------|------|------|------|\n",
        "|0.4 | 2| 2000|2000 |1 |1.23|\n",
        "|0.4| 20|2000|20000|10|12.58|\n",
        "|0.9|2|2000|2000|1|1.8|\n",
        "|0.9|20|2000|20000|10|23.1|"
      ]
    },
    {
      "cell_type": "markdown",
      "metadata": {
        "id": "BJmKBQFJygEg",
        "colab_type": "text"
      },
      "source": [
        "##Frequency plot"
      ]
    },
    {
      "cell_type": "code",
      "metadata": {
        "id": "V-7FlNZVykDy",
        "colab_type": "code",
        "colab": {
          "base_uri": "https://localhost:8080/",
          "height": 283
        },
        "outputId": "2d335117-019a-46f2-98f2-9741c0fd85a9"
      },
      "source": [
        "plt.hist(dist_ws1,label='p=0.4, K=2', density=True)\n",
        "plt.hist(dist_ws2,label='p=0.4, K=20', density=True)\n",
        "plt.hist(dist_ws3,label='p=0.9 ,K=2', density=True)\n",
        "plt.hist(dist_ws4,label='p=0.9, K=20', density=True)\n",
        "plt.legend()"
      ],
      "execution_count": 53,
      "outputs": [
        {
          "output_type": "execute_result",
          "data": {
            "text/plain": [
              "<matplotlib.legend.Legend at 0x7f6775b04ac8>"
            ]
          },
          "metadata": {
            "tags": []
          },
          "execution_count": 53
        },
        {
          "output_type": "display_data",
          "data": {
            "image/png": "[encoded data removed]",
            "text/plain": [
              "<Figure size 432x288 with 1 Axes>"
            ]
          },
          "metadata": {
            "tags": [],
            "needs_background": "light"
          }
        }
      ]
    },
    {
      "cell_type": "markdown",
      "metadata": {
        "id": "QP2KtRgkyoiW",
        "colab_type": "text"
      },
      "source": [
        "##Fit a model distribution"
      ]
    },
    {
      "cell_type": "markdown",
      "metadata": {
        "id": "KInCLy-4yszx",
        "colab_type": "text"
      },
      "source": [
        "For $p = 1$ it is Poisson distribution. So I compare Poisson distribution for $p = 0.9$.\n",
        "\n",
        "There is general formula from lecture for Watts-Strogatz model:  \n",
        "$$ p_k = \\sum_{n=0}^{f(k,K)} C_{K/2}^n (1-p)^n p^{K/2-n}\\frac{(pK/2)^{k-n-K/2}}{(k-n-K/2)!}e^{-pK/2}\n",
        "$$\n",
        "\n",
        "where:\n",
        "\n",
        "\n",
        "\n",
        "*   $K -$ degre at $p = 0$\n",
        "*   $f(k,K) = \\text{min}(k-K/2,K/2)$\n",
        "*   $C_{K/2}^n$ - number of n-combinations from a set of $K/2$ elements"
      ]
    },
    {
      "cell_type": "code",
      "metadata": {
        "id": "t6H1nnqhyxup",
        "colab_type": "code",
        "colab": {
          "base_uri": "https://localhost:8080/",
          "height": 283
        },
        "outputId": "3dd22be1-66a9-4008-d52b-f77a671bad2c"
      },
      "source": [
        "sample = dist_ws4\n",
        "\n",
        "unique, counts = np.unique(sample, return_counts=True) \n",
        "deg = dict(zip(unique, counts))\n",
        "keys = sorted(deg.keys()) \n",
        "vals = [] \n",
        "for k in keys:\n",
        "  vals.append(deg[k]/len(sample)) \n",
        "\n",
        "plt.plot(keys,vals,'.',label='Experimental') \n",
        "\n",
        "p=.9\n",
        "K=20\n",
        "kaver = int(p*(150-1)) \n",
        "kvals1 = np.arange(1,150+1) \n",
        "pk1 = np.zeros(150,dtype=float) \n",
        "for k in kvals1:\n",
        "  suma = 0\n",
        "  for n in range(int(min(k-K/2,K/2))+1):\n",
        "    suma += binom(K/2,n)*((1-p)**n)*(p**(K/2-n))*np.exp(-p*K/2)*((p*K/2)**(k-(K/2)-n)/math.factorial(k-(K/2)-n))\n",
        "  pk1[k-1] = suma\n",
        "\n",
        "plt.plot(kvals1,pk1, label='Formula from lecture')\n",
        "\n",
        "kaver = len(ws_model_graph4.getEdges())/len(list(ws_model_graph4.getVertices()))\n",
        "kvals1 = np.arange(1,200+1) \n",
        "poi1 = np.zeros(200,dtype=float)\n",
        "i = 0 \n",
        "for k in kvals1:\n",
        "  poi1[i] = poisson.pmf(k,kaver)\n",
        "  i = i+1\n",
        "\n",
        "plt.plot(kvals1,poi1,'g',label='Poison')\n",
        "plt.legend()"
      ],
      "execution_count": 65,
      "outputs": [
        {
          "output_type": "execute_result",
          "data": {
            "text/plain": [
              "<matplotlib.legend.Legend at 0x7f677848c1d0>"
            ]
          },
          "metadata": {
            "tags": []
          },
          "execution_count": 65
        },
        {
          "output_type": "display_data",
          "data": {
            "image/png": "[encoded data removed]",
            "text/plain": [
              "<Figure size 432x288 with 1 Axes>"
            ]
          },
          "metadata": {
            "tags": [],
            "needs_background": "light"
          }
        }
      ]
    },
    {
      "cell_type": "markdown",
      "metadata": {
        "id": "Mk2oQdakyysY",
        "colab_type": "text"
      },
      "source": [
        "##Barabasi-Albert model"
      ]
    },
    {
      "cell_type": "code",
      "metadata": {
        "id": "SCLgOFEpy2Es",
        "colab_type": "code",
        "colab": {}
      },
      "source": [
        "def BAModelGraph(N,m0=3,M=2):\n",
        "  '''Function creates Barabasi-Albert model graph with N nodes, graph started with m0 nodes linked togethe. Every next node has M links, M >= m0'''\n",
        "\n",
        "  if M>m0:\n",
        "    print('M must be smaller or equal m0')\n",
        "\n",
        "  #m0 nodes linked together\n",
        "  edges = [(m0-1,0)]\n",
        "  for i in range(m0-2):\n",
        "    edges.append((i,i+1))\n",
        "      \n",
        "  BA_model_graph = Graph()\n",
        "  BA_model_graph.addEdgesFromList(edges)\n",
        "\n",
        "  for node1 in range(m0,N):\n",
        "    m=0\n",
        "    # adding M links to node1 to random nodes with probaility len(BA_model_graph.getNeighbors(node2[0]))/len(BA_model_graph.getEdges())\n",
        "    while m<M:\n",
        "      node2 = rn.choices(range(node1),k=1)\n",
        "      if len(BA_model_graph.getNeighbors(node2[0]))/len(BA_model_graph.getEdges())>rn.random():\n",
        "        BA_model_graph.addEdge(node1,node2[0])\n",
        "        m+=1\n",
        "\n",
        "\n",
        "  return BA_model_graph"
      ],
      "execution_count": 0,
      "outputs": []
    },
    {
      "cell_type": "code",
      "metadata": {
        "id": "6h9k4RSxy9C2",
        "colab_type": "code",
        "colab": {}
      },
      "source": [
        "N = 2000\n",
        "BA1 = BAModelGraph(N,2)\n",
        "BA2 = BAModelGraph(N,6,4)\n",
        "BA3 = BAModelGraph(N,10)"
      ],
      "execution_count": 0,
      "outputs": []
    },
    {
      "cell_type": "markdown",
      "metadata": {
        "id": "8BBIrfqYzRFt",
        "colab_type": "text"
      },
      "source": [
        "##Number of edges"
      ]
    },
    {
      "cell_type": "code",
      "metadata": {
        "id": "awXEFgwvzRt1",
        "colab_type": "code",
        "colab": {
          "base_uri": "https://localhost:8080/",
          "height": 72
        },
        "outputId": "ec11c631-788f-4917-cd83-8bd9af8cedd2"
      },
      "source": [
        "print(len(BA1.getEdges()))\n",
        "print(len(BA2.getEdges()))\n",
        "print(len(BA3.getEdges()))"
      ],
      "execution_count": 76,
      "outputs": [
        {
          "output_type": "stream",
          "text": [
            "3997\n",
            "7981\n",
            "3989\n"
          ],
          "name": "stdout"
        }
      ]
    },
    {
      "cell_type": "markdown",
      "metadata": {
        "id": "__9cca5MzjIL",
        "colab_type": "text"
      },
      "source": [
        "##Number of vertices"
      ]
    },
    {
      "cell_type": "code",
      "metadata": {
        "id": "InX54Ne4zoOU",
        "colab_type": "code",
        "colab": {
          "base_uri": "https://localhost:8080/",
          "height": 72
        },
        "outputId": "35112f7d-e91c-48ca-83f7-3c8272c8942b"
      },
      "source": [
        "print(len(BA1.getVertices()))\n",
        "print(len(BA2.getVertices()))\n",
        "print(len(BA3.getVertices()))"
      ],
      "execution_count": 77,
      "outputs": [
        {
          "output_type": "stream",
          "text": [
            "2000\n",
            "2000\n",
            "2000\n"
          ],
          "name": "stdout"
        }
      ]
    },
    {
      "cell_type": "markdown",
      "metadata": {
        "id": "VwiioAqiz3se",
        "colab_type": "text"
      },
      "source": [
        "##Average degree"
      ]
    },
    {
      "cell_type": "code",
      "metadata": {
        "id": "fZrHSQfuz37x",
        "colab_type": "code",
        "colab": {
          "base_uri": "https://localhost:8080/",
          "height": 72
        },
        "outputId": "22c266a7-ce3d-4dd8-d786-c43304a64ae9"
      },
      "source": [
        "print(len(BA1.getEdges())/len(list(BA1.getVertices())))\n",
        "print(len(BA2.getEdges())/len(list(BA2.getVertices())))\n",
        "print(len(BA3.getEdges())/len(list(BA3.getVertices())))"
      ],
      "execution_count": 78,
      "outputs": [
        {
          "output_type": "stream",
          "text": [
            "1.9985\n",
            "3.9905\n",
            "1.9945\n"
          ],
          "name": "stdout"
        }
      ]
    },
    {
      "cell_type": "markdown",
      "metadata": {
        "id": "BVxBV8C80F33",
        "colab_type": "text"
      },
      "source": [
        "##Variance of distribution"
      ]
    },
    {
      "cell_type": "code",
      "metadata": {
        "id": "YRubPLAZ0LVo",
        "colab_type": "code",
        "colab": {
          "base_uri": "https://localhost:8080/",
          "height": 72
        },
        "outputId": "86d0cf31-3313-4e3a-9529-d743ca5dc6e1"
      },
      "source": [
        "dist_ba1 = []\n",
        "dist_ba2 = []\n",
        "dist_ba3 = []\n",
        "\n",
        "for node in list(BA1.getVertices()):\n",
        "  dist_ba1.append(len(BA1.getNeighbors(node)))\n",
        "\n",
        "for node in list(BA2.getVertices()):\n",
        "  dist_ba2.append(len(BA2.getNeighbors(node)))\n",
        "\n",
        "for node in list(BA3.getVertices()):\n",
        "  dist_ba3.append(len(BA3.getNeighbors(node)))\n",
        "\n",
        "print(statistics.variance(dist_ba1))\n",
        "print(statistics.variance(dist_ba2))\n",
        "print(statistics.variance(dist_ba3))"
      ],
      "execution_count": 79,
      "outputs": [
        {
          "output_type": "stream",
          "text": [
            "38.206094047023505\n",
            "112.68398099049526\n",
            "28.97936868434217\n"
          ],
          "name": "stdout"
        }
      ]
    },
    {
      "cell_type": "markdown",
      "metadata": {
        "id": "plPkHes70-nv",
        "colab_type": "text"
      },
      "source": [
        "| m0 |  m|vertices | edges | av deg | variance|\n",
        "|------|------|------|------|------|------|\n",
        "|2|2 |2000 |3997 |2 |38.2|\n",
        "|6|4|2000|7981|4|112.7|\n",
        "|10|2|2000|3989|2|29|"
      ]
    },
    {
      "cell_type": "markdown",
      "metadata": {
        "id": "PxCUAcGB0_WF",
        "colab_type": "text"
      },
      "source": [
        "##Frequency plot"
      ]
    },
    {
      "cell_type": "code",
      "metadata": {
        "id": "aR0Hq5Wj1EkL",
        "colab_type": "code",
        "colab": {
          "base_uri": "https://localhost:8080/",
          "height": 283
        },
        "outputId": "a54700d6-8a13-4b7d-ec28-7f6cd5c8ed7b"
      },
      "source": [
        "plt.hist(dist_ba1,label='m0=2, m=2', density=True)\n",
        "plt.hist(dist_ba2,label='m0=6, m=4', density=True)\n",
        "plt.hist(dist_ba3,label='m0=10 ,m=2', density=True)\n",
        "plt.legend()"
      ],
      "execution_count": 81,
      "outputs": [
        {
          "output_type": "execute_result",
          "data": {
            "text/plain": [
              "<matplotlib.legend.Legend at 0x7f6777bf5630>"
            ]
          },
          "metadata": {
            "tags": []
          },
          "execution_count": 81
        },
        {
          "output_type": "display_data",
          "data": {
            "image/png": "[encoded data removed]",
            "text/plain": [
              "<Figure size 432x288 with 1 Axes>"
            ]
          },
          "metadata": {
            "tags": [],
            "needs_background": "light"
          }
        }
      ]
    },
    {
      "cell_type": "markdown",
      "metadata": {
        "id": "Enm0oqID5fOe",
        "colab_type": "text"
      },
      "source": [
        "##Fit a model distribution"
      ]
    },
    {
      "cell_type": "markdown",
      "metadata": {
        "id": "TgF-5z3Q5mUZ",
        "colab_type": "text"
      },
      "source": [
        "I fit two curves to the data:\n",
        "\n",
        "\n",
        "*   $p_k^1 = e^{-<k>}\\frac{<k>^k}{\\sqrt{2\\Pi k}}\\frac{k}{e}^{-k}$\n",
        "*   $p_k^2 = k^{-3}$\n",
        "\n",
        "\n"
      ]
    },
    {
      "cell_type": "code",
      "metadata": {
        "id": "_4KVtXQn5fer",
        "colab_type": "code",
        "colab": {
          "base_uri": "https://localhost:8080/",
          "height": 283
        },
        "outputId": "5fb88d6d-85ea-4558-b108-efce2dcbde73"
      },
      "source": [
        "sample = dist_ba1\n",
        "unique, counts = np.unique(sample, return_counts=True) \n",
        "deg = dict(zip(unique, counts))\n",
        "keys = sorted(deg.keys()) \n",
        "vals = [] \n",
        "for k in keys:\n",
        "  vals.append(deg[k]/len(sample)) \n",
        "plt.plot(keys,vals,'.',label='Experimental')\n",
        "\n",
        "avk = len(BA1.getEdges())/len(list(BA1.getVertices()))\n",
        "pk2 = np.zeros(len(keys),dtype=float)\n",
        "pk1 = np.zeros(len(keys),dtype=float)\n",
        "i = 0 \n",
        "for k in keys:\n",
        "  pk2[i] = (1/k)**(3)\n",
        "  pk1[i] = np.exp(-avk)*((avk**k)/(np.sqrt(2*math.pi*k)*(k/np.exp(1))**k))\n",
        "  i = i+1\n",
        "\n",
        "plt.plot(keys,pk2,'r',label='$p_k^2$')\n",
        "plt.plot(keys,pk1,label='$p_k^1$')\n",
        "plt.legend()"
      ],
      "execution_count": 88,
      "outputs": [
        {
          "output_type": "execute_result",
          "data": {
            "text/plain": [
              "<matplotlib.legend.Legend at 0x7f6777645940>"
            ]
          },
          "metadata": {
            "tags": []
          },
          "execution_count": 88
        },
        {
          "output_type": "display_data",
          "data": {
            "image/png": "[encoded data removed]",
            "text/plain": [
              "<Figure size 432x288 with 1 Axes>"
            ]
          },
          "metadata": {
            "tags": [],
            "needs_background": "light"
          }
        }
      ]
    },
    {
      "cell_type": "markdown",
      "metadata": {
        "id": "1tmu1_Vr6F6V",
        "colab_type": "text"
      },
      "source": [
        "##Power law"
      ]
    },
    {
      "cell_type": "code",
      "metadata": {
        "id": "Lmn6XODU6I62",
        "colab_type": "code",
        "colab": {
          "base_uri": "https://localhost:8080/",
          "height": 269
        },
        "outputId": "2edfea54-fffb-4667-952c-824575722146"
      },
      "source": [
        "ecdf = ECDF(sample)\n",
        "plt.plot(ecdf.x,1-ecdf.y,'g')\n",
        "\n",
        "pk2 = np.zeros(len(keys),dtype=float)\n",
        "i = 0\n",
        "for k in keys:\n",
        "  pk2[i] = (1/k)**(2)\n",
        "  i = i+1\n",
        "\n",
        "plt.yscale('log')\n",
        "plt.xscale('log')"
      ],
      "execution_count": 83,
      "outputs": [
        {
          "output_type": "display_data",
          "data": {
            "image/png": "[encoded data removed]",
            "text/plain": [
              "<Figure size 432x288 with 1 Axes>"
            ]
          },
          "metadata": {
            "tags": [],
            "needs_background": "light"
          }
        }
      ]
    },
    {
      "cell_type": "markdown",
      "metadata": {
        "id": "fzNHz300UA0D",
        "colab_type": "text"
      },
      "source": [
        "##**Exercise 2**"
      ]
    },
    {
      "cell_type": "markdown",
      "metadata": {
        "id": "5sNENNOxUEXi",
        "colab_type": "text"
      },
      "source": [
        "##Importing data"
      ]
    },
    {
      "cell_type": "code",
      "metadata": {
        "id": "XOT8DMvpT728",
        "colab_type": "code",
        "colab": {}
      },
      "source": [
        "link = 'http://www.livejournal.com/misc/fdata.bml?user='\n",
        "start_node = 'valerois'\n",
        "\n",
        "response = urllib.request.urlopen(link+start_node)"
      ],
      "execution_count": 0,
      "outputs": []
    },
    {
      "cell_type": "code",
      "metadata": {
        "id": "uUZZqGGWUHcG",
        "colab_type": "code",
        "colab": {}
      },
      "source": [
        "data = response.readlines()"
      ],
      "execution_count": 0,
      "outputs": []
    },
    {
      "cell_type": "markdown",
      "metadata": {
        "id": "wVa69ng0UNji",
        "colab_type": "text"
      },
      "source": [
        "This time I use graph from networkx because of build in function to count degree centrality."
      ]
    },
    {
      "cell_type": "code",
      "metadata": {
        "id": "wSlMQfMBUJYw",
        "colab_type": "code",
        "colab": {}
      },
      "source": [
        "G = nx.Graph()"
      ],
      "execution_count": 0,
      "outputs": []
    },
    {
      "cell_type": "markdown",
      "metadata": {
        "id": "P_g71yJ5UVdw",
        "colab_type": "text"
      },
      "source": [
        "I define function to finding friends of a node in data."
      ]
    },
    {
      "cell_type": "code",
      "metadata": {
        "id": "WTtL_pA7USAk",
        "colab_type": "code",
        "colab": {}
      },
      "source": [
        "def LoadingFriends(start_node,graph):\n",
        "  '''Function add to the graph links from start_node'''\n",
        "  link = 'http://www.livejournal.com/misc/fdata.bml?user='\n",
        "  response = urllib.request.urlopen(link+start_node)\n",
        "  data = response.readlines()\n",
        "  for line in data[1:]:\n",
        "    node = line[2:-1].decode(\"utf-8\")\n",
        "    if (node,start_node) and (start_node,node) not in graph.edges():\n",
        "      graph.add_edge(node,start_node)\n",
        "      response = urllib.request.urlopen(link+node)\n",
        "      data1 = response.readlines()\n",
        "      for line in data1[1:]:\n",
        "        node2 = line[2:-1].decode(\"utf-8\")\n",
        "        if (node,node2) and (node2,node) not in graph.edges():\n",
        "          graph.add_edge(node,node2)\n",
        "  return graph"
      ],
      "execution_count": 0,
      "outputs": []
    },
    {
      "cell_type": "code",
      "metadata": {
        "id": "wWuds8C_UUar",
        "colab_type": "code",
        "colab": {}
      },
      "source": [
        "G = LoadingFriends(start_node,G)"
      ],
      "execution_count": 0,
      "outputs": []
    },
    {
      "cell_type": "markdown",
      "metadata": {
        "id": "iAC8zC7cUwtf",
        "colab_type": "text"
      },
      "source": [
        "This is my way to save graph as csv file"
      ]
    },
    {
      "cell_type": "code",
      "metadata": {
        "id": "9RzsmRj-UiwI",
        "colab_type": "code",
        "colab": {}
      },
      "source": [
        "def SaveGraph(file_name, graph):\n",
        "  '''Function save links in graph as csv file\n",
        "  \n",
        "  Keyword arguments:\n",
        "  file_name -- name of csv file as string\n",
        "  graph -- object graph\n",
        "  '''\n",
        "  separator = ''\n",
        "  with open(separator .join((file_name,\".csv\")), mode='w') as graph_file:\n",
        "    graph_writer = csv.writer(graph_file, delimiter=',', quotechar='\"', lineterminator=\"\\n\", quoting=csv.QUOTE_MINIMAL)\n",
        "    #saving links as a row\n",
        "    for pair in graph.edges():\n",
        "      graph_writer.writerow([pair[0],pair[1]])"
      ],
      "execution_count": 0,
      "outputs": []
    },
    {
      "cell_type": "code",
      "metadata": {
        "id": "gGnh0e2WUz8H",
        "colab_type": "code",
        "colab": {}
      },
      "source": [
        "SaveGraph('graph_file', G)"
      ],
      "execution_count": 0,
      "outputs": []
    },
    {
      "cell_type": "code",
      "metadata": {
        "id": "ZNcISXkjU7Rn",
        "colab_type": "code",
        "colab": {}
      },
      "source": [
        "graph = nx.Graph()\n",
        "with open('graph_file.csv') as csv_file:\n",
        "    csv_reader = csv.reader(csv_file, delimiter=',')\n",
        "    for row in csv_reader:\n",
        "      graph.add_edge(row[0],row[1])"
      ],
      "execution_count": 0,
      "outputs": []
    },
    {
      "cell_type": "markdown",
      "metadata": {
        "id": "dh04mpyVmlK7",
        "colab_type": "text"
      },
      "source": [
        "##Number of nodes"
      ]
    },
    {
      "cell_type": "code",
      "metadata": {
        "id": "Xw9lcALDbE9V",
        "colab_type": "code",
        "colab": {
          "base_uri": "https://localhost:8080/",
          "height": 35
        },
        "outputId": "adc59c65-d970-4e75-eca7-2249617f0516"
      },
      "source": [
        "graph.number_of_nodes()"
      ],
      "execution_count": 18,
      "outputs": [
        {
          "output_type": "execute_result",
          "data": {
            "text/plain": [
              "131147"
            ]
          },
          "metadata": {
            "tags": []
          },
          "execution_count": 18
        }
      ]
    },
    {
      "cell_type": "markdown",
      "metadata": {
        "id": "EajaGG2Hn_P1",
        "colab_type": "text"
      },
      "source": [
        "##Number of edges"
      ]
    },
    {
      "cell_type": "code",
      "metadata": {
        "id": "tSLK3ceEbIaQ",
        "colab_type": "code",
        "colab": {
          "base_uri": "https://localhost:8080/",
          "height": 35
        },
        "outputId": "11aac71d-bddd-4e5a-cf83-9f49bdd86e6f"
      },
      "source": [
        "graph.number_of_edges()"
      ],
      "execution_count": 19,
      "outputs": [
        {
          "output_type": "execute_result",
          "data": {
            "text/plain": [
              "310310"
            ]
          },
          "metadata": {
            "tags": []
          },
          "execution_count": 19
        }
      ]
    },
    {
      "cell_type": "markdown",
      "metadata": {
        "id": "-IJ_wJG6rtuK",
        "colab_type": "text"
      },
      "source": [
        "##Celebrities"
      ]
    },
    {
      "cell_type": "code",
      "metadata": {
        "id": "zj6adfL1n9V7",
        "colab_type": "code",
        "colab": {
          "base_uri": "https://localhost:8080/",
          "height": 55
        },
        "outputId": "fd3be5a7-576b-40b7-c253-405c21982246"
      },
      "source": [
        "celebrities = nx.degree_centrality(graph)\n",
        "sort_cel = sorted([(value,key) for (key,value) in celebrities.items()], reverse=True)\n",
        "print(sort_cel[:10])"
      ],
      "execution_count": 26,
      "outputs": [
        {
          "output_type": "stream",
          "text": [
            "[(0.03496103579217056, 'borisakunin'), (0.03472465801473167, 'alexpashkov'), (0.03464078202918885, 'trirub'), (0.033863022890518964, 'lara_x'), (0.033611394933890475, 'no_globalism'), (0.03313863937901271, 'gogol'), (0.03273450963048816, 'morena_morana'), (0.03236850532993763, 'goodspider'), (0.03159074619126775, 'timgud'), (0.030713860887865433, 'das_foland')]\n"
          ],
          "name": "stdout"
        }
      ]
    },
    {
      "cell_type": "markdown",
      "metadata": {
        "id": "zGkzQ479uh2l",
        "colab_type": "text"
      },
      "source": [
        "##Degree distribution"
      ]
    },
    {
      "cell_type": "code",
      "metadata": {
        "id": "rBPriFDJsXAm",
        "colab_type": "code",
        "colab": {
          "base_uri": "https://localhost:8080/",
          "height": 297
        },
        "outputId": "1a470828-683b-4768-a26f-17d434ec1170"
      },
      "source": [
        "sample = []\n",
        "for node in list(graph.nodes()):\n",
        "  sample.append(graph.degree(node))\n",
        "\n",
        "unique, counts = np.unique(sample, return_counts=True) \n",
        "deg = dict(zip(unique, counts))\n",
        "keys = sorted(deg.keys()) \n",
        "vals = [] \n",
        "for k in keys:\n",
        "  vals.append(deg[k]/len(sample)) \n",
        "plt.plot(np.log(keys),vals,'.')\n",
        "\n",
        "plt.xlabel('degree') \n",
        "plt.ylabel('degree distribution') "
      ],
      "execution_count": 29,
      "outputs": [
        {
          "output_type": "execute_result",
          "data": {
            "text/plain": [
              "Text(0, 0.5, 'degree distribution')"
            ]
          },
          "metadata": {
            "tags": []
          },
          "execution_count": 29
        },
        {
          "output_type": "display_data",
          "data": {
            "image/png": "[encoded data removed]",
            "text/plain": [
              "<Figure size 432x288 with 1 Axes>"
            ]
          },
          "metadata": {
            "tags": [],
            "needs_background": "light"
          }
        }
      ]
    }
  ]
}