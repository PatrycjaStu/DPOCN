{
  "nbformat": 4,
  "nbformat_minor": 0,
  "metadata": {
    "colab": {
      "name": "Diff_List_4_234875_Studzienna_Patrycja",
      "provenance": [],
      "authorship_tag": "ABX9TyO6iiyzYS37TokoKI7aY0qO"
    },
    "kernelspec": {
      "name": "python3",
      "display_name": "Python 3"
    }
  },
  "cells": [
    {
      "cell_type": "markdown",
      "metadata": {
        "id": "f9b6MthCRmJi",
        "colab_type": "text"
      },
      "source": [
        "#**Assignment 4**"
      ]
    },
    {
      "cell_type": "code",
      "metadata": {
        "id": "oeuSfXbOSKMn",
        "colab_type": "code",
        "colab": {}
      },
      "source": [
        "#imports\n",
        "import matplotlib.pyplot as plt\n",
        "import random as rn\n",
        "import imageio\n",
        "import os\n",
        "import math\n",
        "import numpy as np\n",
        "import networkx as nx"
      ],
      "execution_count": 0,
      "outputs": []
    },
    {
      "cell_type": "markdown",
      "metadata": {
        "id": "0vm3Yz6-R7ci",
        "colab_type": "text"
      },
      "source": [
        "##1st task"
      ]
    },
    {
      "cell_type": "code",
      "metadata": {
        "id": "9JYw9t1JSQEK",
        "colab_type": "code",
        "colab": {}
      },
      "source": [
        "def RandomWalk(N,position_x=[0],position_y=[0],boundary_x=[-10,10],boundary_y=[-10,10]):\n",
        "  '''Function generate a random walk on the lattice. It returns list of positions on axis x and list of positions on axis y.\n",
        "\n",
        "  Keyword arguments:\n",
        "  N -- number of steps\n",
        "  position_x -- list with start position on x axis\n",
        "  position_y -- list with start position on x axis\n",
        "  boundary_x -- list with left and right border on x axis\n",
        "  bundary_y -- list with left and right border on y axis\n",
        "  '''\n",
        "  i = 0     #iterator of steps\n",
        "  while i<N:\n",
        "    #each of 4 possible steps has probability p=0.25\n",
        "    r = rn.random()\n",
        "    if r<=.25:\n",
        "      #check if location is in borders\n",
        "      if position_x[-1]+1>boundary_x[1]:\n",
        "        pass\n",
        "      else:\n",
        "        #add a new position: one step right\n",
        "        position_x.append(position_x[-1]+1)\n",
        "        position_y.append(position_y[-1])\n",
        "        i+=1\n",
        "    elif .25<r<=.5:\n",
        "      #check if location is in borders\n",
        "      if position_y[-1]+1>boundary_y[1]:\n",
        "        pass\n",
        "      else:\n",
        "        #add a new position: one step up\n",
        "        position_x.append(position_x[-1])\n",
        "        position_y.append(position_y[-1]+1)\n",
        "        i+=1\n",
        "    if .5<r<=.75:\n",
        "      #check if location is in borders\n",
        "      if position_x[-1]-1<boundary_x[0]:\n",
        "        pass\n",
        "      else:\n",
        "        #add a new position: one step left\n",
        "        position_x.append(position_x[-1]-1)\n",
        "        position_y.append(position_y[-1])\n",
        "        i+=1\n",
        "    elif .75<r<=1:\n",
        "      #check if location is in borders\n",
        "      if position_y[-1]-1<boundary_y[0]:\n",
        "        pass\n",
        "      else:\n",
        "        #add a new position: one step down\n",
        "        position_x.append(position_x[-1])\n",
        "        position_y.append(position_y[-1]-1)\n",
        "        i+=1\n",
        "  return position_x, position_y"
      ],
      "execution_count": 0,
      "outputs": []
    },
    {
      "cell_type": "code",
      "metadata": {
        "id": "zPjoNZQkVxmG",
        "colab_type": "code",
        "colab": {}
      },
      "source": [
        "def GifGenerator(name,position_x,position_y,boundary_x=[-10,10],boundary_y=[-10,10]):\n",
        "  '''Function generate a gif file.\n",
        "\n",
        "  Keyword arguments:\n",
        "  name -- name of file\n",
        "  position_x -- list with start position of agent on x axis\n",
        "  position_y -- list with start position of agent on x axis\n",
        "  boundary_x -- list with left and right border on x axis\n",
        "  bundary_y -- list with left and right border on y axis\n",
        "  '''\n",
        "  path = os.getcwd()  #check path\n",
        "  if 'img' not in os.listdir(path):\n",
        "    #create folder dor plots if it not exist\n",
        "    os.mkdir(path+\"/img/\")\n",
        "  images = [] #list for snapshot\n",
        "  #prepare lattice\n",
        "  plt.xlim(boundary_x[0]-1,boundary_x[1]+1)\n",
        "  plt.ylim(boundary_y[0]-1,boundary_y[1]+1)\n",
        "  plt.title('Random Walk')\n",
        "  plt.xlabel('x')\n",
        "  plt.ylabel('y')\n",
        "  for i in range(1,len(position_x)):\n",
        "    #draw step\n",
        "    plt.plot(position_x[:i+1],position_y[:i+1],'b')\n",
        "    plt.plot(position_x[:i],position_y[:i],'b.')\n",
        "    plt.plot(position_x[i],position_y[i],'r.')\n",
        "    #save figure in folder as \"step\"+number\n",
        "    plt.savefig(os.path.join(path+\"/img/\",\"step{i}.png\".format(i=i)))\n",
        "    #add to images\n",
        "    images.append(imageio.imread(path+\"/img/step{i}.png\".format(i=i)))\n",
        "  #make a gif of images\n",
        "  imageio.mimsave(name+'.gif', images,  duration = 0.8)\n",
        "  return 'Gif file is saved'"
      ],
      "execution_count": 0,
      "outputs": []
    },
    {
      "cell_type": "code",
      "metadata": {
        "id": "EsWp81O2bpoS",
        "colab_type": "code",
        "outputId": "f10d8956-545d-4e88-bd27-e1c8e77989ab",
        "colab": {
          "base_uri": "https://localhost:8080/",
          "height": 313
        }
      },
      "source": [
        "rw=RandomWalk(50)\n",
        "GifGenerator('movie',rw[0],rw[1])"
      ],
      "execution_count": 4,
      "outputs": [
        {
          "output_type": "execute_result",
          "data": {
            "text/plain": [
              "'Gif file is saved'"
            ]
          },
          "metadata": {
            "tags": []
          },
          "execution_count": 4
        },
        {
          "output_type": "display_data",
          "data": {
            "image/png": "[encoded data removed]",
            "text/plain": [
              "<Figure size 432x288 with 1 Axes>"
            ]
          },
          "metadata": {
            "tags": [],
            "needs_background": "light"
          }
        }
      ]
    },
    {
      "cell_type": "markdown",
      "metadata": {
        "id": "dt7-kxUAZUwT",
        "colab_type": "text"
      },
      "source": [
        "##2nd task"
      ]
    },
    {
      "cell_type": "code",
      "metadata": {
        "id": "oesrj6gsEh7C",
        "colab_type": "code",
        "colab": {}
      },
      "source": [
        "def PearsonWalk(N,position_x=[0],position_y=[0],boundary_x = [-10,10],boundary_y = [-10,10]):\n",
        "  '''Function generate a Pearson random walk on the lattice. It returns the fraction of time steps when the walker is in right half plane (x > 0),\n",
        "   the fraction of time the walker is in the ﬁrst quadrant of positions on axis x and list of positions on axis y.\n",
        "\n",
        "  Keyword arguments:\n",
        "  N -- number of steps\n",
        "  position_x -- list with start position on x axis\n",
        "  position_y -- list with start position on x axis\n",
        "  boundary_x -- list with left and right border on x axis\n",
        "  undary_y -- list with left and right border on y axis\n",
        "  '''\n",
        "  i=0\n",
        "  An=0\n",
        "  Bn=0\n",
        "  while i<N:\n",
        "    #step = 1, so delta_x=cos(phi) and delta_y=sin(phi)\n",
        "    #phi is between 0 and 2*pi\n",
        "    #r*2*pi gives all possible angles\n",
        "    r = rn.random()\n",
        "    #check if new location is in boundries\n",
        "    if position_x[-1]+math.cos(r*2*math.pi)>boundary_x[1] or position_x[-1]+math.cos(r*2*math.pi)<boundary_x[0] or position_y[-1]+math.sin(r*2*math.pi)>boundary_y[1] or position_y[-1]+math.sin(r*2*math.pi)<boundary_y[0]:\n",
        "        pass\n",
        "    else:\n",
        "        if position_x[-1]+math.cos(r*2*math.pi)>0:\n",
        "          #check if agent is in right half of plane and add 1 to iterator\n",
        "          An+=1\n",
        "          if position_y[-1]+math.sin(r*2*math.pi)>0:\n",
        "            #check if agent is in first quadrant of plane and add 1 to iterator\n",
        "            Bn+=1\n",
        "        #new position of agent\n",
        "        position_x.append(position_x[-1]+math.cos(r*2*math.pi))\n",
        "        position_y.append(position_y[-1]+math.sin(r*2*math.pi))\n",
        "        i+=1\n",
        "  return An/N,Bn/N,position_x,position_y\n"
      ],
      "execution_count": 0,
      "outputs": []
    },
    {
      "cell_type": "code",
      "metadata": {
        "id": "ZBU2-4dincCf",
        "colab_type": "code",
        "colab": {
          "base_uri": "https://localhost:8080/",
          "height": 313
        },
        "outputId": "db9b1f59-2da4-4a39-d794-2d3781c03cdc"
      },
      "source": [
        "pw=PearsonWalk(50)\n",
        "GifGenerator('movie2',pw[2],pw[3])"
      ],
      "execution_count": 21,
      "outputs": [
        {
          "output_type": "execute_result",
          "data": {
            "text/plain": [
              "'Gif file is saved'"
            ]
          },
          "metadata": {
            "tags": []
          },
          "execution_count": 21
        },
        {
          "output_type": "display_data",
          "data": {
            "image/png": "[encoded data removed]",
            "text/plain": [
              "<Figure size 432x288 with 1 Axes>"
            ]
          },
          "metadata": {
            "tags": [],
            "needs_background": "light"
          }
        }
      ]
    },
    {
      "cell_type": "code",
      "metadata": {
        "id": "QHsZRRoVKJR5",
        "colab_type": "code",
        "colab": {}
      },
      "source": [
        "An=[]\n",
        "Bn=[]\n",
        "for _ in range(1000):\n",
        "  An.append(PearsonWalk(1000,position_x=[0],position_y=[0],boundary_x = [-10,10],boundary_y = [-10,10])[0])\n",
        "  Bn.append(PearsonWalk(1000,position_x=[0],position_y=[0],boundary_x = [-10,10],boundary_y = [-10,10])[1])"
      ],
      "execution_count": 0,
      "outputs": []
    },
    {
      "cell_type": "code",
      "metadata": {
        "id": "rfd4KV2bi_t9",
        "colab_type": "code",
        "outputId": "722d8a18-2a78-4175-bd82-37a59081cddb",
        "colab": {
          "base_uri": "https://localhost:8080/",
          "height": 35
        }
      },
      "source": [
        "np.mean(An)"
      ],
      "execution_count": 12,
      "outputs": [
        {
          "output_type": "execute_result",
          "data": {
            "text/plain": [
              "0.504699"
            ]
          },
          "metadata": {
            "tags": []
          },
          "execution_count": 12
        }
      ]
    },
    {
      "cell_type": "code",
      "metadata": {
        "id": "usH5Xf9_jGvX",
        "colab_type": "code",
        "outputId": "67fb537d-e918-43ba-8c5d-64134aec29e5",
        "colab": {
          "base_uri": "https://localhost:8080/",
          "height": 35
        }
      },
      "source": [
        "np.mean(Bn)"
      ],
      "execution_count": 13,
      "outputs": [
        {
          "output_type": "execute_result",
          "data": {
            "text/plain": [
              "0.250844"
            ]
          },
          "metadata": {
            "tags": []
          },
          "execution_count": 13
        }
      ]
    },
    {
      "cell_type": "code",
      "metadata": {
        "id": "BQ9pZnyOMTSt",
        "colab_type": "code",
        "outputId": "853d5959-43d7-409d-a208-e72f00843806",
        "colab": {
          "base_uri": "https://localhost:8080/",
          "height": 299
        }
      },
      "source": [
        "plt.hist(An,density=True,bins=30)\n",
        "plt.title('Density of An')"
      ],
      "execution_count": 16,
      "outputs": [
        {
          "output_type": "execute_result",
          "data": {
            "text/plain": [
              "Text(0.5, 1.0, 'Density of An')"
            ]
          },
          "metadata": {
            "tags": []
          },
          "execution_count": 16
        },
        {
          "output_type": "display_data",
          "data": {
            "image/png": "[encoded data removed]",
            "text/plain": [
              "<Figure size 432x288 with 1 Axes>"
            ]
          },
          "metadata": {
            "tags": [],
            "needs_background": "light"
          }
        }
      ]
    },
    {
      "cell_type": "code",
      "metadata": {
        "id": "-URIBV-3R96r",
        "colab_type": "code",
        "outputId": "5647c48c-e9bc-4c0a-bd04-19643a709b44",
        "colab": {
          "base_uri": "https://localhost:8080/",
          "height": 299
        }
      },
      "source": [
        "plt.hist(Bn,density=True,bins=30)\n",
        "plt.title('Density of Bn')"
      ],
      "execution_count": 17,
      "outputs": [
        {
          "output_type": "execute_result",
          "data": {
            "text/plain": [
              "Text(0.5, 1.0, 'Density of Bn')"
            ]
          },
          "metadata": {
            "tags": []
          },
          "execution_count": 17
        },
        {
          "output_type": "display_data",
          "data": {
            "image/png": "[encoded data removed]",
            "text/plain": [
              "<Figure size 432x288 with 1 Axes>"
            ]
          },
          "metadata": {
            "tags": [],
            "needs_background": "light"
          }
        }
      ]
    },
    {
      "cell_type": "markdown",
      "metadata": {
        "id": "HzTqM_UlG05d",
        "colab_type": "text"
      },
      "source": [
        "##3dt task"
      ]
    },
    {
      "cell_type": "code",
      "metadata": {
        "id": "nF0pcsQQG8GC",
        "colab_type": "code",
        "colab": {}
      },
      "source": [
        "def WalkOnGraph(start_node,graph,N):\n",
        "  '''Function generate a random walk on the graph. It returns the list of hitting neighbors.\n",
        "\n",
        "  Keyword arguments:\n",
        "  start_node -- start position of walk\n",
        "  graph -- generated graph that the walk will be simulated on\n",
        "  N -- number of steps\n",
        "  '''\n",
        "  #list of hitting nodes with start point\n",
        "  steps=[start_node]\n",
        "  for i in range(N):\n",
        "    #choosing neighbor of last hitted node\n",
        "    steps.append(rn.choice(list(graph.neighbors(steps[-1]))))\n",
        "  return steps"
      ],
      "execution_count": 0,
      "outputs": []
    },
    {
      "cell_type": "code",
      "metadata": {
        "id": "W-1mck5y0HGR",
        "colab_type": "code",
        "colab": {}
      },
      "source": [
        "nodes=20  #number of nodes\n",
        "N=20  #number of steps\n",
        "#generating walks for different graphs\n",
        "G1 = nx.barabasi_albert_graph(nodes,4) \n",
        "ba_walk = WalkOnGraph(0,G1,N)\n",
        "G2 = nx.watts_strogatz_graph(nodes,2,.4)\n",
        "ws_walk = WalkOnGraph(0,G2,N)\n",
        "G3 = nx.gnp_random_graph(nodes,.4)\n",
        "random_walk = WalkOnGraph(0,G3,N)"
      ],
      "execution_count": 0,
      "outputs": []
    },
    {
      "cell_type": "code",
      "metadata": {
        "id": "3WTMOC8z8HvE",
        "colab_type": "code",
        "colab": {}
      },
      "source": [
        "def GraphAnimation(G,steps,name='graph_gif'):\n",
        "  '''Function generate a gif of a random walk on the graph.\n",
        "\n",
        "  Keyword arguments:\n",
        "  G -- generated graph that the walk will be simulated on\n",
        "  steps -- list of steps\n",
        "  name -- name of gif file\n",
        "  '''\n",
        "  path = os.getcwd()  #check path\n",
        "  if 'graph' not in os.listdir(path):\n",
        "    #create folder for plots if it not exist\n",
        "    os.mkdir(path+\"/graph/\")\n",
        "  #list of images\n",
        "  images = []\n",
        "  f = plt.figure()\n",
        "  plt.title('Random walk on graph')\n",
        "  #nodes will be randomly situated\n",
        "  pos=nx.random_layout(G)\n",
        "  #draw edges\n",
        "  nx.draw_networkx_edges(G,pos)\n",
        "  for i in steps:\n",
        "    #for every step I create a list of hitted node \n",
        "    red_node = [i]\n",
        "    #draw nodes\n",
        "    nx.draw_networkx_nodes(G,pos,node_color='b')   \n",
        "    #draw hitted node on red    \n",
        "    nx.draw_networkx_nodes(G,pos,nodelist=red_node,node_color='r') \n",
        "    #save plot\n",
        "    f.savefig(os.path.join(path+\"/graph/\",\"graph{i}.png\".format(i=i)))\n",
        "    #add to list of images\n",
        "    images.append(imageio.imread(path+\"/graph/graph{i}.png\".format(i=i)))\n",
        "  #create graph\n",
        "  imageio.mimsave(name+'.gif', images,  duration = 0.8)"
      ],
      "execution_count": 0,
      "outputs": []
    },
    {
      "cell_type": "code",
      "metadata": {
        "id": "uANs1T63XGX1",
        "colab_type": "code",
        "outputId": "0e73fe4b-7791-457e-b5c7-3aa661311061",
        "colab": {
          "base_uri": "https://localhost:8080/",
          "height": 264
        }
      },
      "source": [
        "GraphAnimation(G3,random_walk)"
      ],
      "execution_count": 29,
      "outputs": [
        {
          "output_type": "display_data",
          "data": {
            "image/png": "[encoded data removed]",
            "text/plain": [
              "<Figure size 432x288 with 1 Axes>"
            ]
          },
          "metadata": {
            "tags": []
          }
        }
      ]
    },
    {
      "cell_type": "code",
      "metadata": {
        "id": "Cx7dM4nTIGLl",
        "colab_type": "code",
        "colab": {}
      },
      "source": [
        "G1 = nx.barabasi_albert_graph(15,4) \n",
        "ba_walk = WalkOnGraph(7,G1,100)\n",
        "G2 = nx.watts_strogatz_graph(15,2,.4)\n",
        "ws_walk = WalkOnGraph(7,G2,100)\n",
        "G3 = nx.gnp_random_graph(15,.4)\n",
        "random_walk = WalkOnGraph(7,G3,100)"
      ],
      "execution_count": 0,
      "outputs": []
    },
    {
      "cell_type": "code",
      "metadata": {
        "id": "nkc3IFqLMgVi",
        "colab_type": "code",
        "colab": {}
      },
      "source": [
        "def AverageHitting(number_of_nodes,start_node,graph,N,mc):\n",
        "  av_hit = {}\n",
        "  for i in range(number_of_nodes):\n",
        "    av_hit['{i}'.format(i=i)] = 0\n",
        "  for _ in range(mc):\n",
        "    steps = WalkOnGraph(start_node,graph,N)\n",
        "    for i in range(number_of_nodes):\n",
        "      av_hit['{i}'.format(i=i)] += np.count_nonzero(np.array(steps) == i)/mc\n",
        "  return av_hit"
      ],
      "execution_count": 0,
      "outputs": []
    },
    {
      "cell_type": "code",
      "metadata": {
        "id": "dy0M7zvgNVVs",
        "colab_type": "code",
        "outputId": "300fc246-68ec-4818-bbf8-a677e590562f",
        "colab": {
          "base_uri": "https://localhost:8080/",
          "height": 294
        }
      },
      "source": [
        "AverageHitting(15,7,G3,100,100)"
      ],
      "execution_count": 0,
      "outputs": [
        {
          "output_type": "execute_result",
          "data": {
            "text/plain": [
              "{'0': 5.639999999999998,\n",
              " '1': 8.549999999999999,\n",
              " '10': 7.63,\n",
              " '11': 7.46,\n",
              " '12': 6.889999999999995,\n",
              " '13': 6.209999999999999,\n",
              " '14': 5.789999999999998,\n",
              " '2': 3.579999999999998,\n",
              " '3': 8.86,\n",
              " '4': 1.1000000000000005,\n",
              " '5': 6.179999999999997,\n",
              " '6': 6.999999999999998,\n",
              " '7': 13.010000000000007,\n",
              " '8': 6.349999999999999,\n",
              " '9': 6.749999999999998}"
            ]
          },
          "metadata": {
            "tags": []
          },
          "execution_count": 51
        }
      ]
    },
    {
      "cell_type": "code",
      "metadata": {
        "id": "vAzXNRmEsXVk",
        "colab_type": "code",
        "outputId": "9aa97360-8170-4350-83c3-25a799b13f5e",
        "colab": {
          "base_uri": "https://localhost:8080/",
          "height": 294
        }
      },
      "source": [
        "AverageHitting(15,7,G2,100,100)"
      ],
      "execution_count": 0,
      "outputs": [
        {
          "output_type": "execute_result",
          "data": {
            "text/plain": [
              "{'0': 5.65,\n",
              " '1': 5.569999999999996,\n",
              " '10': 7.040000000000002,\n",
              " '11': 6.109999999999999,\n",
              " '12': 5.509999999999997,\n",
              " '13': 5.469999999999997,\n",
              " '14': 5.549999999999995,\n",
              " '2': 5.839999999999998,\n",
              " '3': 6.169999999999997,\n",
              " '4': 6.419999999999997,\n",
              " '5': 7.039999999999996,\n",
              " '6': 8.449999999999998,\n",
              " '7': 9.819999999999995,\n",
              " '8': 8.609999999999998,\n",
              " '9': 7.749999999999999}"
            ]
          },
          "metadata": {
            "tags": []
          },
          "execution_count": 52
        }
      ]
    },
    {
      "cell_type": "code",
      "metadata": {
        "id": "kcuPgItYsz5Q",
        "colab_type": "code",
        "outputId": "104b7902-eb4c-43d6-bfa4-09be1eed9aa0",
        "colab": {
          "base_uri": "https://localhost:8080/",
          "height": 294
        }
      },
      "source": [
        "AverageHitting(15,7,G1,100,100)"
      ],
      "execution_count": 0,
      "outputs": [
        {
          "output_type": "execute_result",
          "data": {
            "text/plain": [
              "{'0': 1.0800000000000007,\n",
              " '1': 9.459999999999994,\n",
              " '10': 6.929999999999996,\n",
              " '11': 5.689999999999998,\n",
              " '12': 5.550000000000001,\n",
              " '13': 5.709999999999997,\n",
              " '14': 4.649999999999998,\n",
              " '2': 7.879999999999998,\n",
              " '3': 4.479999999999998,\n",
              " '4': 11.670000000000002,\n",
              " '5': 10.919999999999998,\n",
              " '6': 7.589999999999998,\n",
              " '7': 6.709999999999996,\n",
              " '8': 6.929999999999998,\n",
              " '9': 5.7499999999999964}"
            ]
          },
          "metadata": {
            "tags": []
          },
          "execution_count": 53
        }
      ]
    },
    {
      "cell_type": "code",
      "metadata": {
        "id": "VKfzzcils24F",
        "colab_type": "code",
        "colab": {}
      },
      "source": [
        ""
      ],
      "execution_count": 0,
      "outputs": []
    }
  ]
}